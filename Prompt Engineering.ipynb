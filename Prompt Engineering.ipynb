{
 "cells": [
  {
   "cell_type": "markdown",
   "metadata": {},
   "source": [
    "## OpenAI API 호출"
   ]
  },
  {
   "cell_type": "code",
   "execution_count": 1,
   "metadata": {},
   "outputs": [],
   "source": [
    "from openai import OpenAI\n",
    "\n",
    "OPENAI_API_KEY = \"API KEY를 입력하세요\"\n",
    "\n",
    "client = OpenAI(api_key=OPENAI_API_KEY)"
   ]
  },
  {
   "cell_type": "markdown",
   "metadata": {},
   "source": [
    "## 채팅 기반의 완성 생성, 모델=gpt-3.5"
   ]
  },
  {
   "cell_type": "code",
   "execution_count": 2,
   "metadata": {},
   "outputs": [
    {
     "name": "stdout",
     "output_type": "stream",
     "text": [
      "하늘은 하늘색인 이유는 대기 중의 분자들이 햇빛을 흡수하고 산란시키는 과정 때문입니다\n",
      "태양으로부터 오는 햇빛은 다양한 파장을 가지고 있는데, 대기 중의 분자들은 이 햇빛을 흡수하고 다시 방출하면서 파장이 긴 파장인 파란색과 보라색을 제외한 파장들이 산란되어 우리 눈에는 파란색으로 보이게 됩니다\n",
      "따라서 하늘은 파란색으로 보이게 되는 것입니다.\n"
     ]
    }
   ],
   "source": [
    "# 채팅 기반의 완성 생성, 모델='gpt-3.5'\n",
    "# temperature는 생성할 응답의 창의성을 조절, 0은 최소한의 창의성\n",
    "completion = client.chat.completions.create(model='gpt-3.5-turbo-0125',\n",
    "                                            messages=[{'role': 'user', 'content': '왜 하늘은 하늘색인가요?'}],\n",
    "                                            temperature=0.0)\n",
    "\n",
    "answer = completion.choices[0].message.content\n",
    "for sentence in answer.split('. '):\n",
    "    print(sentence)"
   ]
  },
  {
   "cell_type": "markdown",
   "metadata": {},
   "source": [
    "## Prompt는 2가지 종류\n",
    "\n",
    "* System Prompt\n",
    "    1. User Prompt를 전달하기 전에 맥락, 지침을 설정하는 프롬프트\n",
    "    2. 페르소나, 어조 설정\n",
    "    3. 출력값 지정, 페르소나 및 어조 설정, 외부 정보 주입, 규칙 설정\n",
    "\n",
    "* User Prompt\n",
    "    1. 사용자가 ChatGPT한테 실제로 전달"
   ]
  },
  {
   "cell_type": "markdown",
   "metadata": {},
   "source": [
    "### System Prompt 호출"
   ]
  },
  {
   "cell_type": "code",
   "execution_count": 3,
   "metadata": {},
   "outputs": [
    {
     "name": "stdout",
     "output_type": "stream",
     "text": [
      "숲이 초록색인 이유는 나무와 식물들이 속에 포함된 엽록소라는 물질 때문입니다\n",
      "엽록소는 식물들이 태양빛을 흡수하여 에너지를 생산하는데 사용하는 역할을 합니다\n",
      "이 과정을 광합성이라고 해요\n",
      "엽록소는 태양빛을 흡수할 때 녹색 빛을 흡수하고 다른 색깔의 빛을 반사하기 때문에 우리 눈에는 초록색으로 보이게 됩니다\n",
      "그래서 숲은 엽록소가 많이 포함되어 있어서 초록색으로 보이는 거죠.\n"
     ]
    }
   ],
   "source": [
    "completion = client.chat.completions.create(\n",
    "    model='gpt-3.5-turbo-0125',\n",
    "    messages=[\n",
    "        {'role': 'system', 'content': '당신은 물리선생님입니다. 저학년 학생들을 대상으로 친절하고 쉽게 설명해주세요.'}, # 역할(물리선생님), 맥락(저학년에게 친절하게)\n",
    "        {'role': 'user', 'content': '왜 숲은 초록색인가요?'}],\n",
    "        temperature=0.0\n",
    ")\n",
    "\n",
    "sys_answer = completion.choices[0].message.content\n",
    "for sentence in sys_answer.split('. '):\n",
    "    print(sentence)"
   ]
  },
  {
   "cell_type": "markdown",
   "metadata": {},
   "source": [
    "### User Prompt 호출\n",
    "* System X, User가 System과 같이 사용"
   ]
  },
  {
   "cell_type": "code",
   "execution_count": 4,
   "metadata": {},
   "outputs": [
    {
     "name": "stdout",
     "output_type": "stream",
     "text": [
      "숲이 초록색인 이유는 주로 나무와 식물들이 엽록소라는 녹색 색소를 가지고 있기 때문입니다\n",
      "엽록소는 빛을 흡수하여 에너지를 생산하는 역할을 합니다\n",
      "빛 중에서 파란색과 녹색의 파장을 가진 빛을 특히 잘 흡수하고, 빨간색의 파장을 가진 빛은 반사하기 때문에 우리 눈에 초록색으로 보입니다\n",
      "따라서 숲은 주로 초록색으로 보이는 것이죠\n",
      "또한 나무와 식물들이 많이 모여 있어서 눈에 초록색이 더 많이 보이기도 합니다\n",
      "숲은 자연의 아름다움을 담고 있는 곳이기 때문에 초록색으로 더욱 아름다운 것 같아요.\n"
     ]
    }
   ],
   "source": [
    "completion = client.chat.completions.create(\n",
    "    model='gpt-3.5-turbo-0125',\n",
    "    messages=[\n",
    "        {'role': 'user', 'content': '당신은 물리선생님입니다. 저학년 학생들을 대상으로 친절하고 쉽게 설명해주세요. 왜 숲은 초록색인가요?'}\n",
    "    ],\n",
    "    temperature=0.0\n",
    ")\n",
    "\n",
    "user_answer = completion.choices[0].message.content\n",
    "for sentence in user_answer.split('. '):\n",
    "    print(sentence)"
   ]
  },
  {
   "cell_type": "markdown",
   "metadata": {},
   "source": [
    "* System Prompt, User Prompt 둘다 비슷한 답을 얻었다.\n",
    "* User Prompt는 유저가 직접 적어야 하지만, System Prompt는 System 개발자가 직접 맞춰서 작성한 Prompt이기 때문에 개발자에 맞춰져있다.\n",
    "* 그래도 자세히 보면 System Prompt는 User Prompt보다 저학년 학생들이 쉽게 이해할 수 있다고 생각한다."
   ]
  },
  {
   "cell_type": "markdown",
   "metadata": {},
   "source": [
    "### Completion X, Stream O\n",
    "* Completion의 뜻은 '완성'으로, 결과를 한번에 받음\n",
    "* Stream은 실시간으로 바로바로 받을 수 있다는 특징이 있음\n",
    "* ChatGPT가 문장을 완성하지 않고, 각 단어별로 바로바로 보여주는 방법"
   ]
  },
  {
   "cell_type": "code",
   "execution_count": 5,
   "metadata": {},
   "outputs": [
    {
     "name": "stdout",
     "output_type": "stream",
     "text": [
      "숲이 초록색인 이유는 주로 나무와 식물들이 엽록소라는 녹색 색소를 가지고 있기 때문입니다. 엽록소는 빛을 흡수하여 에너지를 생산하는 역할을 하며, 녹색색소이기 때문에 숲이나 나무들이 초록색으로 보이게 됩니다. 또한, 빛이 나무나 식물들의 잎사귀에 반사되어 우리 눈에 초록색으로 보이기 때문에 숲은 주로 초록색으로 인식됩니다."
     ]
    }
   ],
   "source": [
    "stream = client.chat.completions.create(\n",
    "    model='gpt-3.5-turbo-0125',\n",
    "    messages=[{'role': 'user', 'content': '왜 숲은 초록색인가?'}],\n",
    "    temperature=0.0,\n",
    "    stream=True\n",
    ")\n",
    "\n",
    "for chunk in stream:\n",
    "    if chunk.choices[0].delta.content is not None:\n",
    "        print(chunk.choices[0].delta.content, end='')"
   ]
  },
  {
   "cell_type": "markdown",
   "metadata": {},
   "source": [
    "### 특징\n",
    "1. Prompt는 영어로 해야 모델의 제성능을 발휘하는 편\n",
    "2. AI 모델의 출력값은 입력값에 의존도가 매우 높음\n",
    "3. Prompt를 이렇게 저렇게 바꿨을 때 \"더 좋아보이는\" 결과보다는 특정 지표에서 유의미하게 더 좋거나 여러 번의 블라인드 테스팅을 통해 더 좋은 Prompt를 정하는 것을 추천"
   ]
  },
  {
   "cell_type": "markdown",
   "metadata": {},
   "source": [
    "## 프롬프트 평가\n",
    "* LLM이 어느 정도 성능을 가진 모델인지 정량 or 정성적으로 확인하는 객관적인 지표\n",
    "1. 사람\n",
    "2. 모델\n",
    "3. 코드"
   ]
  },
  {
   "cell_type": "markdown",
   "metadata": {},
   "source": [
    "### 모델을 활용한 평가\n",
    "1. G-Eval\n",
    "2. MT-Bench"
   ]
  },
  {
   "cell_type": "markdown",
   "metadata": {},
   "source": [
    "### GPT-3.5과 GPT-4의 질문에 대한 답변"
   ]
  },
  {
   "cell_type": "code",
   "execution_count": 6,
   "metadata": {},
   "outputs": [
    {
     "name": "stdout",
     "output_type": "stream",
     "text": [
      "숲이 초록색인 이유는 주로 나무와 식물들이 엽록소라는 녹색 색소를 가지고 있기 때문입니다\n",
      "엽록소는 빛을 흡수하여 에너지를 생산하는 역할을 하며, 녹색색소이기 때문에 숲이 초록색으로 보이게 됩니다\n",
      "또한, 숲의 식물들이 많은 양의 엽록소를 함유하고 있기 때문에 숲 전체가 초록색으로 빛나는 것입니다\n",
      "이러한 이유로 숲은 주로 초록색으로 보이게 됩니다.\n",
      "------------------------------\n",
      "숲이 초록색으로 보이는 주된 이유는 나무와 식물의 잎에 포함된 엽록소(chlorophyll) 때문입니다. 엽록소는 식물이 광합성을 통해 태양 에너지를 화학 에너지로 변환하는 데 필수적인 역할을 합니다. 광합성 과정에서 식물은 이산화탄소와 물을 사용하여 포도당과 같은 영양분을 만들고, 산소를 방출합니다.\n",
      "\n",
      "엽록소는 빛의 스펙트럼 중에서 빨간색과 파란색 파장을 흡수하고, 초록색 파장을 반사합니다. 이 반사된 초록색 빛이 우리 눈에 들어와 식물의 잎이 초록색으로 보이게 만듭니다. 숲이 대부분 초록색으로 보이는 것은 나무와 식물의 잎이 많기 때문에, 이러한 초록색 반사가 매우 흔하기 때문입니다.\n",
      "\n",
      "물론, 계절에 따라 나무의 잎 색깔이 변할 수 있습니다. 예를 들어, 가을에는 일부 나무의 잎이 노란색, 주황색, 빨간색으로 변하며, 이는 엽록소가 분해되고 다른 색소들이 더 잘 보이게 되기 때문입니다. 그러나 봄과 여름에는 엽록소의 활동이 가장 활발하여 숲이 풍부한 초록색을 띠게 됩니다.\n"
     ]
    }
   ],
   "source": [
    "# 질문\n",
    "question = \"왜 숲은 초록색인가?\"\n",
    "\n",
    "# gpt-3.5 모델을 통해 질문 후, 답변(answer3_5)을 얻음\n",
    "completion = client.chat.completions.create(\n",
    "    model='gpt-3.5-turbo-0125',\n",
    "    messages=[{'role': 'user', 'content': question}],\n",
    "    temperature=0.0\n",
    ")\n",
    "\n",
    "answer3_5 = completion.choices[0].message.content\n",
    "for sentence in answer3_5.split('. '):\n",
    "    print(sentence)\n",
    "\n",
    "print('-'*30)\n",
    "\n",
    "# gpt-4 모델을 통해 질문 후, 답변(answer4)을 얻음\n",
    "completion = client.chat.completions.create(\n",
    "    model='gpt-4-1106-preview', # 최근 모델\n",
    "    messages=[{'role': 'user', 'content': question}],\n",
    "    temperature=0.0\n",
    ")\n",
    "\n",
    "answer4 = completion.choices[0].message.content\n",
    "print(answer4)"
   ]
  },
  {
   "cell_type": "markdown",
   "metadata": {},
   "source": [
    "### 평가 프롬프트"
   ]
  },
  {
   "cell_type": "code",
   "execution_count": 7,
   "metadata": {},
   "outputs": [
    {
     "name": "stdout",
     "output_type": "stream",
     "text": [
      "[System]\n",
      "Please act as an impartial judge and evaluate the quality of the responses provided by two\n",
      "AI assistants to the user question displayed below. You should choose the assistant that\n",
      "follows the user’s instructions and answers the user’s question better. Your evaluation\n",
      "should consider factors such as the helpfulness, relevance, accuracy, depth, creativity,\n",
      "and level of detail of their responses. Begin your evaluation by comparing the two\n",
      "responses and provide a short explanation. Avoid any position biases and ensure that the\n",
      "order in which the responses were presented does not influence your decision. Do not allow\n",
      "the length of the responses to influence your evaluation. Do not favor certain names of\n",
      "the assistants. Be as objective as possible. After providing your explanation, output your\n",
      "final verdict by strictly following this format: \"[[A]]\" if assistant A is better, \"[[B]]\"\n",
      "if assistant B is better, and \"[[C]]\" for a tie.\n",
      "\n",
      "[User Question]\n",
      "왜 숲은 초록색인가?\n",
      "\n",
      "[The Start of Assistant A’s Answer]\n",
      "숲이 초록색인 이유는 주로 나무와 식물들이 엽록소라는 녹색 색소를 가지고 있기 때문입니다. 엽록소는 빛을 흡수하여 에너지를 생산하는 역할을 하며, 녹색색소이기 때문에 숲이 초록색으로 보이게 됩니다. 또한, 숲의 식물들이 많은 양의 엽록소를 함유하고 있기 때문에 숲 전체가 초록색으로 빛나는 것입니다. 이러한 이유로 숲은 주로 초록색으로 보이게 됩니다.\n",
      "[The End of Assistant A’s Answer]\n",
      "\n",
      "[The Start of Assistant B’s Answer]\n",
      "숲이 초록색으로 보이는 주된 이유는 나무와 식물의 잎에 포함된 엽록소(chlorophyll) 때문입니다. 엽록소는 식물이 광합성을 통해 태양 에너지를 화학 에너지로 변환하는 데 필수적인 역할을 합니다. 광합성 과정에서 식물은 이산화탄소와 물을 사용하여 포도당과 같은 영양분을 만들고, 산소를 방출합니다.\n",
      "\n",
      "엽록소는 빛의 스펙트럼 중에서 빨간색과 파란색 파장을 흡수하고, 초록색 파장을 반사합니다. 이 반사된 초록색 빛이 우리 눈에 들어와 식물의 잎이 초록색으로 보이게 만듭니다. 숲이 대부분 초록색으로 보이는 것은 나무와 식물의 잎이 많기 때문에, 이러한 초록색 반사가 매우 흔하기 때문입니다.\n",
      "\n",
      "물론, 계절에 따라 나무의 잎 색깔이 변할 수 있습니다. 예를 들어, 가을에는 일부 나무의 잎이 노란색, 주황색, 빨간색으로 변하며, 이는 엽록소가 분해되고 다른 색소들이 더 잘 보이게 되기 때문입니다. 그러나 봄과 여름에는 엽록소의 활동이 가장 활발하여 숲이 풍부한 초록색을 띠게 됩니다.\n",
      "[The End of Assistant B’s Answer]\n"
     ]
    }
   ],
   "source": [
    "# 평가 프롬프트에 넣어보자\n",
    "# 평가 프롬프트 출처: MT-Bench 논문 https://arxiv.org/pdf/2306.05685.pdf (A. Prompt Templates Figure 5)\n",
    "\n",
    "prompt = f\"\"\"[System]\n",
    "Please act as an impartial judge and evaluate the quality of the responses provided by two\n",
    "AI assistants to the user question displayed below. You should choose the assistant that\n",
    "follows the user’s instructions and answers the user’s question better. Your evaluation\n",
    "should consider factors such as the helpfulness, relevance, accuracy, depth, creativity,\n",
    "and level of detail of their responses. Begin your evaluation by comparing the two\n",
    "responses and provide a short explanation. Avoid any position biases and ensure that the\n",
    "order in which the responses were presented does not influence your decision. Do not allow\n",
    "the length of the responses to influence your evaluation. Do not favor certain names of\n",
    "the assistants. Be as objective as possible. After providing your explanation, output your\n",
    "final verdict by strictly following this format: \"[[A]]\" if assistant A is better, \"[[B]]\"\n",
    "if assistant B is better, and \"[[C]]\" for a tie.\n",
    "\n",
    "[User Question]\n",
    "{question}\n",
    "\n",
    "[The Start of Assistant A’s Answer]\n",
    "{answer3_5}\n",
    "[The End of Assistant A’s Answer]\n",
    "\n",
    "[The Start of Assistant B’s Answer]\n",
    "{answer4}\n",
    "[The End of Assistant B’s Answer]\"\"\"\n",
    "\n",
    "print(prompt)"
   ]
  },
  {
   "cell_type": "markdown",
   "metadata": {},
   "source": [
    "### 평가"
   ]
  },
  {
   "cell_type": "code",
   "execution_count": 8,
   "metadata": {},
   "outputs": [
    {
     "name": "stdout",
     "output_type": "stream",
     "text": [
      "Upon reviewing the responses from Assistant A and Assistant B, it is evident that both assistants provided accurate and relevant explanations for why forests appear green, primarily attributing this to the presence of chlorophyll in the leaves of trees and plants. However, there are notable differences in the depth and detail of their explanations.\n",
      "\n",
      "Assistant A's response is straightforward and correct, explaining that chlorophyll absorbs light to produce energy, which results in the green color of forests. This answer is concise and directly addresses the user's question.\n",
      "\n",
      "Assistant B, on the other hand, goes further in depth by explaining the specific process of photosynthesis and how chlorophyll plays a crucial role in converting sunlight into chemical energy. Assistant B also elaborates on how chlorophyll absorbs certain wavelengths of light while reflecting others, specifically the green wavelengths, which is why we perceive the leaves as green. Additionally, Assistant B adds information about seasonal changes in leaf color, providing a broader context and enhancing the user's understanding of the topic.\n",
      "\n",
      "Considering the factors of helpfulness, relevance, accuracy, depth, creativity, and level of detail, Assistant B's response is more comprehensive and informative, offering a deeper understanding of the biological and physical processes involved, as well as contextual information about seasonal variations.\n",
      "\n",
      "Final Verdict: [[B]]\n"
     ]
    }
   ],
   "source": [
    "# 평가\n",
    "# 최신 모델 'gpt-4-turbo-2024-04-09'에 위 prompt를 넣어보자.\n",
    "completion = client.chat.completions.create(\n",
    "    model='gpt-4-turbo-2024-04-09', # 최신 모델\n",
    "    messages=[{'role': 'user', 'content': prompt}],\n",
    "    temperature=0.0\n",
    ")\n",
    "\n",
    "print(completion.choices[0].message.content)"
   ]
  },
  {
   "cell_type": "markdown",
   "metadata": {},
   "source": [
    "```\n",
    "영어 해석본을 번역해서 봐보자.\n",
    "\n",
    "보조자 A와 보조자 B의 응답을 비교하면서 두 보조자 모두 식물 잎에서 엽록소의 역할에 초점을 맞춰 숲이 녹색으로 나타나는 이유에 대해 정확하고 관련성 있는 설명을 제공합니다. 그러나 설명의 깊이와 세부사항에는 차이가 있습니다.\n",
    "\n",
    "보조자 A의 반응은 간결하며 빛의 흡수와 녹색 빛의 반사를 언급하면서 녹색의 원인이 엽록소임을 정확하게 식별합니다. 또한 녹색의 우세에 기여하는 숲의 식물 성장의 경쟁적 측면을 다루고 있습니다.\n",
    "\n",
    "반면 보조자 B의 반응은 광합성 과정과 엽록소에 의해 흡수되고 반사되는 빛의 특정 파장에 대해 더 자세히 설명합니다. 이 보조원은 또한 잎의 다른 색소에 대한 엽록소의 지배력이 어떻게 녹색을 띠게 되는지에 대해 확장하고 잎의 계절적 색상 변화에 대해 더 자세히 설명하여 답변에 깊이와 교육적 가치를 더합니다.\n",
    "\n",
    "창의성 측면에서 두 응답 모두 과학적인 설명을 고수하고 질문의 사실적 성격에 적합한 창의적 해석을 시도하지 않습니다.\n",
    "\n",
    "전반적으로 보조 도구 B는 기본 질문을 해결할 뿐만 아니라 관련 현상(예: 잎 색깔의 계절적 변화)에 대한 사용자의 이해를 풍부하게 하는 보다 자세하고 포괄적인 설명을 제공합니다. 이렇게 하면 보조자 B의 응답이 더 유용하고 유익해집니다.\n",
    "\n",
    "최종 평결: [[B]]\n",
    "\n",
    "결론적으로 B예시가 더 좋은 예시라고 평가했다.\n",
    "```\n",
    "\n",
    "1. 평가 프롬프트에 'gpt-3.5'와 'gpt-4'의 질문한 답변을 넣는다.\n",
    "2. 넣은 '평가 프롬프트'를 최신 gpt모델 'gpt-4-turbo-2024-04-09'에 평가한다.\n",
    "3. 결론적으로 B예시(GPT-4)가 더 좋은 예시라고 하였다.\n",
    "4. 최신 모델은 좋은거구나.."
   ]
  },
  {
   "cell_type": "markdown",
   "metadata": {},
   "source": [
    "## 사람, 모델, 코드를 활용한 평가의 각각 장단점\n",
    "### 1. 사람을 활용한 평가\n",
    "- 장점\n",
    "1. 복잡한 맥락과 뉘앙스를 사람은 이해할 수 있기 때문에, 심층적 이해와 맥락을 평가하는데 유리함\n",
    "2. 통제된 환경일 경우, 사람이 직접 평가한 방법이라 신뢰를 할 수 있음\n",
    "3. 실제 사용해보고 경험과 만족도를 반영할 수 있어, 사용자 중심의 평가 가능\n",
    "\n",
    "- 단점\n",
    "1. 다수의 의한 노이즈 발생 가능성이 있음\n",
    "2. 전문가가 아닐시 정확성이 떨어짐\n",
    "3. 시간과 비용이 높을 수 있음\n",
    "### 2. 모델을 활용한 평가\n",
    "-장점\n",
    "1. 정량적 지표를 통해 객관적으로 성능을 평가할 수 있음\n",
    "2. 자동으로 대규모 데이터셋을 평가할 수 있어, 시간과 비용을 절약할 수 있음\n",
    "3. 평가의 일관성과 신뢰성을 높일 수 있음\n",
    "\n",
    "- 단점\n",
    "1. 모델은 복잡한 맥락이나 뉘앙스를 완벽히 이해하지 못할 수 있음\n",
    "2. 편향이 평가 결과에 미칠 수 있음\n",
    "### 3. 코드를 활용한 평가\n",
    "- 장점\n",
    "1. 무료로 평가할 수 있음\n",
    "2. 신속하고 정확하게 평가할 수 있음\n",
    "3. 복잡한 계산 가능\n",
    "\n",
    "- 단점\n",
    "1. 신뢰성이 떨어질 수 있음\n",
    "2. 기술적 제약 발생\n",
    "\n",
    "### 요약\n",
    "1. 태스크에 적합한 사람이 평가하는 방법이 제일 좋음\n",
    "2. 현실적으로 사람이 평가하는 방법은 쉽지 않아, 모델이 평가하는 방법도 충분히 사용함\n",
    "3. 코드를 활용한 평가를 권장, 현실적으로 고려하는 점이 '비용'이기 때문에\n",
    "4. 가장 이상적인 평가 방법은 정량적 + 정성적 평가 모두 하는 법\n",
    "5. 최종 지표는 사용자의 피드백\n",
    "\n",
    "### 정리\n",
    "- 평가 기준은 총 3가지\n",
    "1. 사람을 활용한 평가\n",
    "2. 모델을 활용한 평가\n",
    "3. 코드를 활용한 평가"
   ]
  },
  {
   "cell_type": "markdown",
   "metadata": {},
   "source": [
    "## 프롬프트 엔지니어링 기법들"
   ]
  },
  {
   "cell_type": "markdown",
   "metadata": {},
   "source": [
    "### Zero-Shot Prompting\n",
    "* 특정 작업에 대해 명시적으로 훈련받지 않은 상태에서, 모델이 주어진 프롬프트를 통해 바로 작업을 수행하도록 유도하는 것\n",
    "\n",
    "### 대표적인 기법 Few Shot, Chain of Thought\n",
    "* 현재 Chain of Thought 기법을 많이 씀\n",
    "* 어느 기법이 좋다는 것을 없고, 각 기법을 잘 이해하고 원리를 아는게 중요\n",
    "\n",
    "### 1. Few Shot\n",
    "* 답변을 얻기 위해 참고할 수 있는 정답 사례를 알려줘 프롬프트 기능을 올려주는 방법\n",
    "* Q1 : ~~~~? (참고)\n",
    "* A1 : ~~~ (참고)\n",
    "* Q2 : ~~~?\n",
    "* A2 :\n",
    "* 관련 논문 : https://arxiv.org/abs/2005.14165 (=GPT-3 논문)\n",
    "* 3-shot의 경우 정답 사례를 프롬프트에 3개 입력\n",
    "* 공인된 프롬프트 엔지니어링 방법론, 평가에서도 사용, 모델 사이즈의 크기가 어느정도 있어야 함\n",
    "\n",
    "### 1-1. Few Shot이 잘 동작하는 이유\n",
    "* 추가학습없이 정답 사례만 추가해도 성능이 급격히 증가 (파라미터를 수정하지 않아도)\n",
    "* 사전훈련단계에서 잘 훈련된 언어모델\n",
    "* 태스크에 빠르게 적응\n",
    "* In-Context Learning이라고 부름"
   ]
  },
  {
   "cell_type": "markdown",
   "metadata": {},
   "source": [
    "### Few Shot (기본 프롬프트)"
   ]
  },
  {
   "cell_type": "code",
   "execution_count": 9,
   "metadata": {},
   "outputs": [
    {
     "name": "stdout",
     "output_type": "stream",
     "text": [
      "A: The book \"The Little Prince\" was written by Antoine de Saint-Exupéry.\n"
     ]
    }
   ],
   "source": [
    "prompt = \"\"\"Q: who wrote the book The Little Prince?\"\"\"\n",
    "\n",
    "completion = client.chat.completions.create(\n",
    "    model='gpt-3.5-turbo-0125',\n",
    "    messages=[{'role': 'user', 'content': prompt}],\n",
    "    temperature=0.0\n",
    ")\n",
    "\n",
    "print(completion.choices[0].message.content)"
   ]
  },
  {
   "cell_type": "markdown",
   "metadata": {},
   "source": [
    "### 1-Shot"
   ]
  },
  {
   "cell_type": "code",
   "execution_count": 10,
   "metadata": {},
   "outputs": [
    {
     "name": "stdout",
     "output_type": "stream",
     "text": [
      "Antoine de Saint-Exupéry\n"
     ]
    }
   ],
   "source": [
    "prompt = \"\"\"Answer these questions:\n",
    "Q: Who sang billie jean?\n",
    "A: Michale Jackson\n",
    "Q: Who wrote the book The Little Prince?\n",
    "A: \"\"\"\n",
    "\n",
    "completion = client.chat.completions.create(\n",
    "    model='gpt-3.5-turbo-0125',\n",
    "    messages=[{'role': 'user', 'content': prompt}],\n",
    "    temperature=0.0\n",
    ")\n",
    "\n",
    "print(completion.choices[0].message.content)"
   ]
  },
  {
   "cell_type": "markdown",
   "metadata": {},
   "source": [
    "### 2. Chain-of-Thought\n",
    "* 정답 사례 + 문제 해결 과정도 Prompt에 추가\n",
    "* 답을 추리하는 과정을 적어준다.\n",
    "* 대부분 프롬프트 엔지니어링 기법이 Chain-of-Thought\n"
   ]
  },
  {
   "cell_type": "markdown",
   "metadata": {},
   "source": [
    "### Standard Prompting gpt-3.5, Not Chain-of-Thought"
   ]
  },
  {
   "cell_type": "code",
   "execution_count": 11,
   "metadata": {},
   "outputs": [
    {
     "name": "stdout",
     "output_type": "stream",
     "text": [
      "Alice would have 5 apples - 3 thrown + 2 given to Bob - 1 given back = 3 apples.\n"
     ]
    }
   ],
   "source": [
    "# Prompt 출처: https://github.com/microsoft/generative-ai-for-beginners/tree/main/05-advanced-prompts\n",
    "\n",
    "prompt = \"\"\"Alice has 5 apples, throws 3 apples, gives 2 to Bob and Bob gives one back, how many apples does Alice have?\"\"\"\n",
    "\n",
    "completion = client.chat.completions.create(\n",
    "    model=\"gpt-3.5-turbo-0125\",\n",
    "    messages=[{\"role\": \"user\", \"content\": prompt}],\n",
    "    temperature=0.0\n",
    ")\n",
    "\n",
    "print(completion.choices[0].message.content)"
   ]
  },
  {
   "cell_type": "markdown",
   "metadata": {},
   "source": [
    "### Chain-of-Thought Prompting gpt-3.5"
   ]
  },
  {
   "cell_type": "code",
   "execution_count": 12,
   "metadata": {},
   "outputs": [
    {
     "name": "stdout",
     "output_type": "stream",
     "text": [
      "Alice has 4 apples left. \n",
      "\n",
      "5 - 3 = 2\n",
      "2 - 2 = 0\n",
      "0 + 1 = 1\n"
     ]
    }
   ],
   "source": [
    "prompt = \"\"\"Lisa has 7 apples, throws 1 apple, gives 4 apples to Bart and Bart gives one back:\n",
    "7 - 1 = 6\n",
    "6 - 4 = 2\n",
    "2 + 1 = 3\n",
    "\n",
    "Alice has 5 apples, throws 3 apples, gives 2 to Bob and Bob gives one back, how many apples does Alice have?\"\"\"\n",
    "\n",
    "completion = client.chat.completions.create(\n",
    "    model=\"gpt-3.5-turbo-0125\",\n",
    "    messages=[{\"role\": \"user\", \"content\": prompt}],\n",
    "    temperature=0.0\n",
    ")\n",
    "\n",
    "print(completion.choices[0].message.content)"
   ]
  },
  {
   "cell_type": "markdown",
   "metadata": {},
   "source": [
    "* Standard Prompting은 문제를 못풀었지만, Chain-of-Thought Prompting도 여러번 해보면 풀었지만, 못 푼 경우도 있다.\n",
    "* Standard Prompting gpt-3.5는 문제를 못풀었지만, gpt-4는 문제를 풀 수 있는지 알아보자"
   ]
  },
  {
   "cell_type": "markdown",
   "metadata": {},
   "source": [
    "### Standard Prompting gpt-4, Not Chain-of-Thought"
   ]
  },
  {
   "cell_type": "code",
   "execution_count": 13,
   "metadata": {},
   "outputs": [
    {
     "name": "stdout",
     "output_type": "stream",
     "text": [
      "Let's break down the sequence of events to determine how many apples Alice has at the end:\n",
      "\n",
      "1. Alice starts with 5 apples.\n",
      "2. Alice throws 3 apples away. Now, she has \\(5 - 3 = 2\\) apples.\n",
      "3. Alice gives 2 apples to Bob. Now, she has \\(2 - 2 = 0\\) apples.\n",
      "4. Bob gives 1 apple back to Alice. Now, she has \\(0 + 1 = 1\\) apple.\n",
      "\n",
      "Therefore, Alice has 1 apple.\n"
     ]
    }
   ],
   "source": [
    "# Prompt 출처: https://github.com/microsoft/generative-ai-for-beginners/tree/main/05-advanced-prompts\n",
    "\n",
    "prompt = \"\"\"Alice has 5 apples, throws 3 apples, gives 2 to Bob and Bob gives one back, how many apples does Alice have?\"\"\"\n",
    "\n",
    "completion = client.chat.completions.create(\n",
    "    model=\"gpt-4-turbo-2024-04-09\",\n",
    "    messages=[{\"role\": \"user\", \"content\": prompt}],\n",
    "    temperature=0.0\n",
    ")\n",
    "\n",
    "print(completion.choices[0].message.content)"
   ]
  },
  {
   "cell_type": "markdown",
   "metadata": {},
   "source": [
    "### 결론\n",
    "* Not Chain-of-Thought gpt-3.5은 풀지 못했고, Chani-of-Thought gpt-3.5는 푼 경우도 있고 아닌 경우도 있다.\n",
    "* gpt-4는 문제를 풀 수 있다.\n",
    "* gpt-4에는 Chain-of-Thought 상태가 녹아있다는 것을 알 수 있다.\n",
    "* 예전에는 어떤 프롬프트를 쓰면 된다는 점이 있었지만, 요새는 모델이 좋아 좋은 모델을 쓰면 된다.\n",
    "* 그러나 gpt-4는 gpt-3.5보다 30배 정도 비싸서..ㅎㅎ"
   ]
  },
  {
   "cell_type": "markdown",
   "metadata": {},
   "source": [
    "### Summary\n",
    "1. ChatGPT에게 자연스럽게 질문하는 방법 'Zero-Shot Prompting'\n",
    "2. Zero-Shot보다 더 좋은 방법론은 'Few-Shot', 'Chain-of-Thought'\n",
    "3. Few-Shot은 Prompt에 예시 추가\n",
    "4. Chain-of-Thought은 여기에 정답 추리 과정까지 추가\n",
    "5. Chain-of-Thought은 출력값 Voting 앙상블"
   ]
  },
  {
   "cell_type": "markdown",
   "metadata": {},
   "source": [
    "## 프롬프트 고도화"
   ]
  },
  {
   "cell_type": "markdown",
   "metadata": {},
   "source": [
    "### 1. KKMLU 한글 객관식 Question"
   ]
  },
  {
   "cell_type": "code",
   "execution_count": 14,
   "metadata": {},
   "outputs": [],
   "source": [
    "# 정답은 B=6\n",
    "\n",
    "question = 'x, y가 세 부등식 y ≤ x+3, y ≤ -4x+3, y ≥ 0을 만족할 때, x+y의 최댓값을 M, 최솟값을 m이라 하면 M-m의 값은?'\n",
    "\n",
    "A = 4\n",
    "B = 6\n",
    "C = 8\n",
    "D = 10"
   ]
  },
  {
   "cell_type": "markdown",
   "metadata": {},
   "source": [
    "### GPT-3.5"
   ]
  },
  {
   "cell_type": "code",
   "execution_count": 15,
   "metadata": {},
   "outputs": [
    {
     "name": "stdout",
     "output_type": "stream",
     "text": [
      "C. 8\n",
      "\n",
      "먼저 y ≤ x+3과 y ≤ -4x+3을 만족하는 영역을 그래프로 그리면 삼각형이 되고, y ≥ 0을 만족하는 부분은 x축 이하의 영역이 됩니다. 이 삼각형의 꼭지점은 (0,3), (0,0), (-3,0)이므로 이 삼각형의 꼭지점을 이용하여 x+y의 최댓값과 최솟값을 구할 수 있습니다.\n",
      "\n",
      "(0,3)에서 x+y의 값은 3, (0,0)에서 x+y의 값은 0, (-3,0)에서 x+y의 값은 -3이므로 x+y의 최댓값은 3이고 최솟값은 -3입니다. 따라서 M-m = 3 - (-3) = 6이므로 정답은 C. 8입니다.\n"
     ]
    }
   ],
   "source": [
    "# Prompt 출처: KMMLU 논문에서 실제로 평가에 사용한 Prompt (논문: https://arxiv.org/pdf/2402.11548.pdf)\n",
    "\n",
    "prompt = f\"\"\"{question}\n",
    "A. {A}\n",
    "B. {B}\n",
    "C. {C}\n",
    "D. {D}\n",
    "정답：\"\"\"\n",
    "\n",
    "completion = client.chat.completions.create(\n",
    "    model='gpt-3.5-turbo-0125',\n",
    "    messages=[{'role': 'user', 'content': prompt}],\n",
    "    temperature=0.0\n",
    ")\n",
    "\n",
    "print(completion.choices[0].message.content)"
   ]
  },
  {
   "cell_type": "markdown",
   "metadata": {},
   "source": [
    "### GPT-4"
   ]
  },
  {
   "cell_type": "code",
   "execution_count": 16,
   "metadata": {},
   "outputs": [
    {
     "name": "stdout",
     "output_type": "stream",
     "text": [
      "이 문제를 해결하기 위해 주어진 부등식들을 이용하여 영역을 그래프에 나타내고, 이 영역의 꼭짓점에서 x+y의 최댓값과 최솟값을 찾아야 합니다.\n",
      "\n",
      "1. **부등식 그리기**:\n",
      "   - \\( y \\leq x + 3 \\)\n",
      "   - \\( y \\leq -4x + 3 \\)\n",
      "   - \\( y \\geq 0 \\)\n",
      "\n",
      "2. **교차점 찾기**:\n",
      "   - \\( y = x + 3 \\)와 \\( y = -4x + 3 \\)의 교차점을 찾습니다.\n",
      "     \\[ x + 3 = -4x + 3 \\]\n",
      "     \\[ 5x = 0 \\]\n",
      "     \\[ x = 0 \\]\n",
      "     \\[ y = 0 + 3 = 3 \\]\n",
      "     교차점은 (0, 3)입니다.\n",
      "\n",
      "   - \\( y = x + 3 \\)와 \\( y = 0 \\)의 교차점을 찾습니다.\n",
      "     \\[ 0 = x + 3 \\]\n",
      "     \\[ x = -3 \\]\n",
      "     교차점은 (-3, 0)입니다.\n",
      "\n",
      "   - \\( y = -4x + 3 \\)와 \\( y = 0 \\)의 교차점을 찾습니다.\n",
      "     \\[ 0 = -4x + 3 \\]\n",
      "     \\[ 4x = 3 \\]\n",
      "     \\[ x = \\frac{3}{4} \\]\n",
      "     교차점은 (\\(\\frac{3}{4}\\), 0)입니다.\n",
      "\n",
      "3. **x+y의 값 계산**:\n",
      "   - 점 (-3, 0)에서 \\( x + y = -3 + 0 = -3 \\)\n",
      "   - 점 (0, 3)에서 \\( x + y = 0 + 3 = 3 \\)\n",
      "   - 점 (\\(\\frac{3}{4}\\), 0)에서 \\( x + y = \\frac{3}{4} + 0 = \\frac{3}{4} \\)\n",
      "\n",
      "4. **최댓값과 최솟값**:\n",
      "   - 최댓값 \\( M = 3 \\)\n",
      "   - 최솟값 \\( m = -3 \\)\n",
      "\n",
      "5. **M - m 계산**:\n",
      "   \\[ M - m = 3 - (-3) = 3 + 3 = 6 \\]\n",
      "\n",
      "따라서, \\( M - m \\)의 값은 6입니다. 정답은 **B. 6**입니다.\n"
     ]
    }
   ],
   "source": [
    "# Prompt 출처: KMMLU 논문에서 실제로 평가에 사용한 Prompt (논문: https://arxiv.org/pdf/2402.11548.pdf)\n",
    "\n",
    "prompt = f\"\"\"{question}\n",
    "A. {A}\n",
    "B. {B}\n",
    "C. {C}\n",
    "D. {D}\n",
    "정답：\"\"\"\n",
    "\n",
    "completion = client.chat.completions.create(\n",
    "    model='gpt-4-turbo-2024-04-09',\n",
    "    messages=[{'role': 'user', 'content': prompt}],\n",
    "    temperature=0.0\n",
    ")\n",
    "\n",
    "print(completion.choices[0].message.content)"
   ]
  },
  {
   "cell_type": "markdown",
   "metadata": {},
   "source": [
    "### GPT-3.5 고도화 1"
   ]
  },
  {
   "cell_type": "code",
   "execution_count": 20,
   "metadata": {},
   "outputs": [
    {
     "name": "stdout",
     "output_type": "stream",
     "text": [
      "C. 8\n"
     ]
    }
   ],
   "source": [
    "# Prompt 출처: KMMLU 논문에서 실제로 평가에 사용한 Prompt (논문: https://arxiv.org/pdf/2402.11548.pdf)\n",
    "\n",
    "prompt = f\"\"\"You are an Professional in Mathematics. Below is given a math question in Korean.\n",
    "\n",
    "{question}\n",
    "A. {A}\n",
    "B. {B}\n",
    "C. {C}\n",
    "D. {D}\n",
    "Answer：\"\"\"\n",
    "\n",
    "completion = client.chat.completions.create(\n",
    "    model='gpt-3.5-turbo-0125',\n",
    "    messages=[{'role': 'user', 'content': prompt}],\n",
    "    temperature=0.0\n",
    ")\n",
    "\n",
    "print(completion.choices[0].message.content)"
   ]
  },
  {
   "cell_type": "markdown",
   "metadata": {},
   "source": [
    "### gpt-3.5 고도화 2\n",
    "* 차근차근 설명해주면서 생각할 시간을 준다는 마음으로 작성"
   ]
  },
  {
   "cell_type": "code",
   "execution_count": 22,
   "metadata": {},
   "outputs": [
    {
     "name": "stdout",
     "output_type": "stream",
     "text": [
      "C. 8\n"
     ]
    }
   ],
   "source": [
    "# Prompt 출처: KMMLU 논문에서 실제로 평가에 사용한 Prompt (논문: https://arxiv.org/pdf/2402.11548.pdf)\n",
    "\n",
    "prompt = f\"\"\"You are a Professional in Mathematics. Below is given a math question in Korean.\n",
    "You are to think carefully about the question and choose one of four given answers. Only one of them is true.\n",
    "\n",
    "{question}\n",
    "A. {A}\n",
    "B. {B}\n",
    "C. {C}\n",
    "D. {D}\n",
    "Answer:\"\"\"\n",
    "\n",
    "completion = client.chat.completions.create(\n",
    "    model='gpt-3.5-turbo-0125',\n",
    "    messages=[{'role': 'user', 'content': prompt}],\n",
    "    temperature=0.0\n",
    ")\n",
    "\n",
    "print(completion.choices[0].message.content)"
   ]
  },
  {
   "cell_type": "code",
   "execution_count": 23,
   "metadata": {},
   "outputs": [
    {
     "name": "stdout",
     "output_type": "stream",
     "text": [
      "B. 6\n",
      "\n",
      "To find the maximum and minimum values of x+y, we need to find the intersection points of the given inequalities. \n",
      "\n",
      "First, we find the intersection points of y ≤ x+3 and y ≤ -4x+3:\n",
      "x+3 = -4x+3\n",
      "5x = 0\n",
      "x = 0\n",
      "\n",
      "When x = 0, y = 3\n",
      "\n",
      "Next, we find the intersection points of y ≤ x+3 and y ≥ 0:\n",
      "x+3 = 0\n",
      "x = -3\n",
      "\n",
      "When x = -3, y = 0\n",
      "\n",
      "Therefore, the maximum value of x+y is when x = 0 and y = 3, which is 3. The minimum value of x+y is when x = -3 and y = 0, which is -3. \n",
      "\n",
      "Therefore, M-m = 3 - (-3) = 6. \n",
      "\n",
      "Thus, the correct answer is B. 6.\n"
     ]
    }
   ],
   "source": [
    "# Prompt 출처: KMMLU 논문에서 실제로 평가에 사용한 Prompt (논문: https://arxiv.org/pdf/2402.11548.pdf)\n",
    "\n",
    "prompt = f\"\"\"You are a Professional in Mathematics. Below is given a math question in Korean.\n",
    "You are to think carefully about the question and choose one of four given answers. Only one of them is true.\n",
    "Give reasons about why you think your answer is correct.\n",
    "\n",
    "{question}\n",
    "A. {A}\n",
    "B. {B}\n",
    "C. {C}\n",
    "D. {D}\n",
    "Answer：\"\"\"\n",
    "\n",
    "completion = client.chat.completions.create(\n",
    "    model='gpt-3.5-turbo-0125',\n",
    "    messages=[{'role': 'user', 'content': prompt}],\n",
    "    temperature=0.0\n",
    ")\n",
    "\n",
    "print(completion.choices[0].message.content)"
   ]
  },
  {
   "cell_type": "markdown",
   "metadata": {},
   "source": [
    "### 2. Open Ended 태스크\n",
    "평가기준\n",
    "1. G-Eval (Model-Based Evaluation)\n",
    "2. Rouge (Code-Based Evaluation)"
   ]
  },
  {
   "cell_type": "markdown",
   "metadata": {},
   "source": [
    "### 테스트 케이스"
   ]
  },
  {
   "cell_type": "code",
   "execution_count": 24,
   "metadata": {},
   "outputs": [],
   "source": [
    "# https://v.daum.net/v/20240417080004859\n",
    "\n",
    "news = \"\"\"한국프로야구(KBO) 중계권은 티빙이 가져갔지만, 네이버(035420)와 카카오(035720)는 중계를 보지 않아도 야구를 즐길 수 있는 서비스를 강화하고 있다. 네이버는 '오픈톡', 카카오는 '프로야구봇'으로 이용자를 끌어들이는 데 성공했다.\n",
    "\n",
    "17일 네이버에 따르면 프로야구 10개 구단 '오픈톡' 참여자 수는 최근 일주일(중복 제외) 동안 100만 명에 달한다.\n",
    "\n",
    "오픈톡은 실시간으로 정보를 공유하고 의견을 주고받는 커뮤니티 서비스다. 한화구단의 오픈톡에만 29만 명이 넘게 참여하고 있다.\n",
    "\n",
    "또 네이버는 올해 2월부터 스포츠 뉴스에 알고리즘 기능을 도입했다. 야구를 좋아하는 이용자들이 더 많은 야구 뉴스를 볼 수 있도록 배려했다.\n",
    "\n",
    "최근 클릭한 기사, 선호 언론사 등을 분석해 이용자가 좋아하는 뉴스를 우선적으로 노출하는 방식이다.\n",
    "\n",
    "카카오는 카카오톡 채널 '프로야구봇' 서비스를 강화하고 있다. 16일 기준 프로야구봇을 친구추가한 이용자는 약 35만 명이다.\n",
    "\n",
    "프로야구봇을 친구로 추가하면 응원팀의 소식, 라인업, 경기기록 등 프로야구와 관련한 소식을 공유받을 수 있다.\n",
    "\n",
    "특히 실시간 경기 상황을 바로바로 보내주는 '톡중계'를 이용해 실시간 중계를 보지 못해도 경기의 흐름을 알 수 있다.\n",
    "\n",
    "올해 시즌부터는 '경기결과 요약', '1군 등록·말소 정보'도 추가로 제공한다. 경기결과 요약은 경기를 못 본 날에도 주요 흐름 파악에 문제없을 정도로 자세하다.\n",
    "\n",
    "'우리팀 환호 알림' 베타 서비스도 시작했다. 경기 중 팬들이 환호하는 순간을 푸시 메시지로 알려주는 것이다.\n",
    "\n",
    "다음(Daum)스포츠에서는 '그래픽 중계'를 시작했다. 투구 정보와 출루 상황 등 경기 상황을 그래픽으로 제공해 영상 중계 없이도 현장감 있는 경기를 즐길 수 있도록 했다.\n",
    "\n",
    "카카오는 \"더 즐거운 야구 생활을 할 수 있도록 여러 가지 기능을 많이 준비하고 있다\"고 말했다.\"\"\""
   ]
  },
  {
   "cell_type": "markdown",
   "metadata": {},
   "source": [
    "### GPT-3.5"
   ]
  },
  {
   "cell_type": "code",
   "execution_count": 25,
   "metadata": {},
   "outputs": [
    {
     "name": "stdout",
     "output_type": "stream",
     "text": [
      "네이버와 카카오, KBO 중계권을 놓고 경쟁 중이지만 야구 팬들을 위한 서비스를 강화 중. 네이버의 '오픈톡'과 카카오의 '프로야구봇'으로 이용자들을 끌어들이는 데 성공. 또한 네이버는 알고리즘 기능을 도입해 야구 뉴스를 더 많이 제공하고, 카카오는 '톡중계'와 '그래픽 중계'를 통해 현장감 있는 야구 경기를 즐길 수 있도록 노력 중.\n"
     ]
    }
   ],
   "source": [
    "prompt = f\"\"\"아래 뉴스 기사를 3줄로 요약해줘.\n",
    "\n",
    "{news}\n",
    "\"\"\"\n",
    "\n",
    "completion = client.chat.completions.create(\n",
    "    model=\"gpt-3.5-turbo-0125\",\n",
    "    messages=[{\"role\": \"user\", \"content\": prompt}],\n",
    "    temperature=0.0\n",
    ")\n",
    "\n",
    "summary_gpt3 = completion.choices[0].message.content\n",
    "print(summary_gpt3)"
   ]
  },
  {
   "cell_type": "code",
   "execution_count": 26,
   "metadata": {},
   "outputs": [
    {
     "name": "stdout",
     "output_type": "stream",
     "text": [
      "네이버와 카카오, KBO 중계권을 놓고 경쟁 중이지만 야구 팬들을 위한 서비스를 강화 중\n",
      "네이버의 '오픈톡'과 카카오의 '프로야구봇'으로 이용자들을 끌어들이는 데 성공\n",
      "또한 네이버는 알고리즘 기능을 도입해 야구 뉴스를 더 많이 제공하고, 카카오는 '톡중계'와 '그래픽 중계'를 통해 현장감 있는 야구 경기를 즐길 수 있도록 노력 중.\n"
     ]
    }
   ],
   "source": [
    "for line in summary_gpt3.split('. '):\n",
    "  print(line)"
   ]
  },
  {
   "cell_type": "markdown",
   "metadata": {},
   "source": [
    "### GPT-4"
   ]
  },
  {
   "cell_type": "code",
   "execution_count": 27,
   "metadata": {},
   "outputs": [
    {
     "name": "stdout",
     "output_type": "stream",
     "text": [
      "1. 티빙이 KBO 중계권을 확보했으나, 네이버와 카카오는 각각 '오픈톡'과 '프로야구봇' 서비스를 통해 사용자들이 중계를 보지 않고도 야구 경기를 즐길 수 있도록 서비스를 강화하고 있다.\n",
      "2. 네이버의 '오픈톡'은 실시간 정보 공유와 의견 교환을 가능하게 하는 커뮤니티 서비스로, 최근 일주일간 프로야구 10개 구단 참여자 수가 100만 명에 달하며, 한화 구단의 오픈톡 참여자만 29만 명이 넘는다.\n",
      "3. 카카오의 '프로야구봇'은 카카오톡 채널을 통해 응원팀의 소식, 라인업, 경기기록 등을 제공하며, 실시간 '톡중계' 기능을 통해 경기의 흐름을 파악할 수 있으며, 추가적으로 경기결과 요약과 1군 등록·말소 정보도 제공한다.\n"
     ]
    }
   ],
   "source": [
    "prompt = f\"\"\"아래 뉴스 기사를 3줄로 요약해줘.\n",
    "\n",
    "{news}\n",
    "\"\"\"\n",
    "\n",
    "completion = client.chat.completions.create(\n",
    "    model=\"gpt-4-turbo-2024-04-09\",\n",
    "    messages=[{\"role\": \"user\", \"content\": prompt}],\n",
    "    temperature=0.0\n",
    ")\n",
    "\n",
    "summary_gpt4 = completion.choices[0].message.content\n",
    "print(summary_gpt4)"
   ]
  },
  {
   "cell_type": "markdown",
   "metadata": {},
   "source": [
    "### 뉴스기사 평가 프롬프트 GPT-3.5 [G-Eval]"
   ]
  },
  {
   "cell_type": "code",
   "execution_count": 28,
   "metadata": {},
   "outputs": [
    {
     "name": "stdout",
     "output_type": "stream",
     "text": [
      "4\n"
     ]
    }
   ],
   "source": [
    "eval_prompt = f\"\"\"You will be given one summary written for a news article.\n",
    "Your task is to rate the summary on one metric.\n",
    "Please make sure you read and understand these instructions carefully. Please keep this\n",
    "document open while reviewing, and refer to it as needed.\n",
    "Evaluation Criteria:\n",
    "Coherence (1-5) - the collective quality of all sentences. We align this dimension with\n",
    "the DUC quality question of structure and coherence whereby ”the summary should be\n",
    "well-structured and well-organized. The summary should not just be a heap of related information, but should build from sentence to sentence to a coherent body of information about a topic.”\n",
    "Evaluation Steps:\n",
    "1. Read the news article carefully and identify the main topic and key points.\n",
    "2. Read the summary and compare it to the news article. Check if the summary covers the main\n",
    "topic and key points of the news article, and if it presents them in a clear and logical order.\n",
    "3. Assign a score for coherence on a scale of 1 to 5, where 1 is the lowest and 5 is the highest\n",
    "based on the Evaluation Criteria.\n",
    "Example:\n",
    "Source Text:\n",
    "{news}\n",
    "Summary:\n",
    "{summary_gpt3}\n",
    "Evaluation Form (scores ONLY):\n",
    "- Coherence:\"\"\"\n",
    "\n",
    "completion = client.chat.completions.create(\n",
    "    model=\"gpt-3.5-turbo-0125\",\n",
    "    messages=[{\"role\": \"user\", \"content\": eval_prompt}],\n",
    "    temperature=0.0\n",
    ")\n",
    "\n",
    "print(completion.choices[0].message.content)"
   ]
  },
  {
   "cell_type": "markdown",
   "metadata": {},
   "source": [
    "### 뉴스기사 평가 프롬프트 gpt-4 [G-Eval]"
   ]
  },
  {
   "cell_type": "code",
   "execution_count": 29,
   "metadata": {},
   "outputs": [
    {
     "name": "stdout",
     "output_type": "stream",
     "text": [
      "- Coherence: 5\n"
     ]
    }
   ],
   "source": [
    "eval_prompt = f\"\"\"You will be given one summary written for a news article.\n",
    "Your task is to rate the summary on one metric.\n",
    "Please make sure you read and understand these instructions carefully. Please keep this\n",
    "document open while reviewing, and refer to it as needed.\n",
    "Evaluation Criteria:\n",
    "Coherence (1-5) - the collective quality of all sentences. We align this dimension with\n",
    "the DUC quality question of structure and coherence whereby ”the summary should be\n",
    "well-structured and well-organized. The summary should not just be a heap of related information, but should build from sentence to sentence to a coherent body of information about a topic.”\n",
    "Evaluation Steps:\n",
    "1. Read the news article carefully and identify the main topic and key points.\n",
    "2. Read the summary and compare it to the news article. Check if the summary covers the main\n",
    "topic and key points of the news article, and if it presents them in a clear and logical order.\n",
    "3. Assign a score for coherence on a scale of 1 to 5, where 1 is the lowest and 5 is the highest\n",
    "based on the Evaluation Criteria.\n",
    "Example:\n",
    "Source Text:\n",
    "{news}\n",
    "Summary:\n",
    "{summary_gpt4}\n",
    "Evaluation Form (scores ONLY):\n",
    "- Coherence:\"\"\"\n",
    "\n",
    "completion = client.chat.completions.create(\n",
    "    model=\"gpt-4-turbo-2024-04-09\",\n",
    "    messages=[{\"role\": \"user\", \"content\": eval_prompt}],\n",
    "    temperature=0.0\n",
    ")\n",
    "\n",
    "print(completion.choices[0].message.content)"
   ]
  },
  {
   "cell_type": "markdown",
   "metadata": {},
   "source": [
    "### 평가 Rouge"
   ]
  },
  {
   "cell_type": "code",
   "execution_count": 30,
   "metadata": {},
   "outputs": [
    {
     "data": {
      "text/plain": [
       "[{'rouge-1': {'r': 0.19736842105263158,\n",
       "   'p': 0.35714285714285715,\n",
       "   'f': 0.2542372835507039},\n",
       "  'rouge-2': {'r': 0.0625, 'p': 0.11363636363636363, 'f': 0.08064515671175884},\n",
       "  'rouge-l': {'r': 0.18421052631578946,\n",
       "   'p': 0.3333333333333333,\n",
       "   'f': 0.23728813100833102}}]"
      ]
     },
     "execution_count": 30,
     "metadata": {},
     "output_type": "execute_result"
    }
   ],
   "source": [
    "from rouge import Rouge\n",
    "\n",
    "rouge = Rouge()\n",
    "scores = rouge.get_scores(summary_gpt3, summary_gpt4)\n",
    "scores"
   ]
  },
  {
   "cell_type": "markdown",
   "metadata": {},
   "source": [
    "### 고도화 GPT-3.5"
   ]
  },
  {
   "cell_type": "code",
   "execution_count": 31,
   "metadata": {},
   "outputs": [
    {
     "name": "stdout",
     "output_type": "stream",
     "text": [
      "네이버와 카카오는 KBO 중계권을 잃었지만, '오픈톡'과 '프로야구봇'을 통해 야구 팬들에게 서비스를 제공하고 있다. 네이버의 '오픈톡'은 10개 구단의 참여자 수가 최근 일주일 동안 100만 명에 이르며, 한화구단의 오픈톡에는 29만 명이 참여하고 있다. 카카오는 '프로야구봇'을 통해 약 35만 명의 이용자에게 응원팀의 소식과 실시간 경기 상황을 제공하고 있다.\n"
     ]
    }
   ],
   "source": [
    "prompt = f\"\"\"You are a helpful Summarization Assistant. Below is given a news in Korean.\n",
    "Please summarize below news in three sentences. You summary should follow below rules:\n",
    "\n",
    "1. You summary should not contain any information that is not present in the news.\n",
    "\n",
    "{news}\n",
    "\"\"\"\n",
    "\n",
    "completion = client.chat.completions.create(\n",
    "    model=\"gpt-3.5-turbo-0125\",\n",
    "    messages=[{\"role\": \"user\", \"content\": prompt}],\n",
    "    temperature=0.0\n",
    ")\n",
    "\n",
    "summary_gpt3_v2 = completion.choices[0].message.content\n",
    "print(summary_gpt3_v2)"
   ]
  },
  {
   "cell_type": "markdown",
   "metadata": {},
   "source": [
    "* 개선된 모습을 보임 (경쟁중 -> 잃었지만), 원래 잃었다"
   ]
  },
  {
   "cell_type": "markdown",
   "metadata": {},
   "source": [
    "### Few-Shot Prompting (1-Shot)"
   ]
  },
  {
   "cell_type": "code",
   "execution_count": 32,
   "metadata": {},
   "outputs": [
    {
     "name": "stdout",
     "output_type": "stream",
     "text": [
      "카카오가 포털 다음을 통해 KBO 리그의 모든 경기에 대해 처음으로 그래픽 중계를 제공하며, 이는 실시간 경기 상황을 그래픽으로 보여주는 LMT(Live Match Tracker) 서비스를 포함한다. 다음 스포츠의 KBO 게임센터에서는 문자 중계, 경기 일정, 기록, 뉴스 등 다양한 콘텐츠를 제공하고, 카카오는 향후 MLB, NBA, KBL 등 다른 스포츠 경기에도 그래픽 중계를 확대 적용할 계획이다. 추가적으로 카카오톡에서는 '프로야구봇' 채널을 통해 응원팀 소식과 경기 기록 등을 받아볼 수 있으며, 2024시즌부터는 경기 결과 요약과 선수 등록 정보도 제공할 예정이다.\n"
     ]
    }
   ],
   "source": [
    "sample_news = \"\"\"한국야구위원회(KBO) 리그 정규 시즌이 23일 개막하는 가운데, 카카오가 포털 다음에서 시즌 모든 경기에 대해 처음으로 그래픽 중계를 진행한다.\n",
    "\n",
    "그래픽 중계는 실시간 경기 상황을 그래픽으로 보여주는 LMT(Live Match Tracker) 서비스다.\n",
    "\n",
    "투구 정보와 출루 상황 등의 경기 상황을 그래픽으로 제공해 영상 중계 없이도 현장감 있는 경기를 즐길 수 있는 것이 특징이다.\n",
    "\n",
    "다음 스포츠 내 KBO 게임센터에서는 문자 중계, 경기 일정·기록, 뉴스 등의 콘텐츠도 함께 확인할 수 있다.\n",
    "\n",
    "카카오 다음CIC는 지난 1월 해외 축구 게임센터에 그래픽 중계를 처음으로 도입했다.\n",
    "\n",
    "이후 2023 아시안컵과 국내 프로축구(K리그)에 그래픽 중계를 적용했다.\n",
    "\n",
    "카카오는 향후 다음에서 미국 프로야구(MLB), 미국 프로농구(NBA), 한국 프로농구(KBL) 등 다양한 스포츠 경기에 그래픽 중계를 확대 적용할 계획이다.\n",
    "\n",
    "이 밖에 카카오톡에서는 '프로야구봇' 채널도 추가할 수 있다.\n",
    "\n",
    "채널을 추가하면 응원팀의 소식, 라인업, 경기 기록 등 프로야구와 관련한 소식들을 톡 채널로 공유받을 수 있다.\n",
    "\n",
    "또 현재 경기 상황을 한눈에 파악할 수 있는 카드형 서비스 '두근두근'과 승부 예측 기능도 있다.\n",
    "\n",
    "2024시즌부터는 '경기 결과 요약', '1군 등록·말소 정보'도 추가로 제공한다.\"\"\"\n",
    "\n",
    "prompt = f\"\"\"아래 뉴스 기사를 3줄로 요약해줘.\n",
    "\n",
    "{sample_news}\n",
    "\"\"\"\n",
    "\n",
    "completion = client.chat.completions.create(\n",
    "    model=\"gpt-4-turbo-2024-04-09\",\n",
    "    messages=[{\"role\": \"user\", \"content\": prompt}],\n",
    "    temperature=0.0\n",
    ")\n",
    "\n",
    "sample_summary = completion.choices[0].message.content\n",
    "print(sample_summary)"
   ]
  },
  {
   "cell_type": "code",
   "execution_count": 33,
   "metadata": {},
   "outputs": [
    {
     "name": "stdout",
     "output_type": "stream",
     "text": [
      "카카오가 포털 다음을 통해 KBO 리그의 모든 경기에 대해 처음으로 그래픽 중계를 제공하며, 이는 실시간 경기 상황을 그래픽으로 보여주는 LMT(Live Match Tracker) 서비스를 포함한다\n",
      "다음 스포츠의 KBO 게임센터에서는 문자 중계, 경기 일정, 기록, 뉴스 등 다양한 콘텐츠를 제공하고, 카카오는 향후 MLB, NBA, KBL 등 다른 스포츠 경기에도 그래픽 중계를 확대 적용할 계획이다\n",
      "추가적으로 카카오톡에서는 '프로야구봇' 채널을 통해 응원팀 소식과 경기 기록 등을 받아볼 수 있으며, 2024시즌부터는 경기 결과 요약과 선수 등록 정보도 제공할 예정이다.\n"
     ]
    }
   ],
   "source": [
    "for line in sample_summary.split('. '):\n",
    "  print(line)"
   ]
  },
  {
   "cell_type": "code",
   "execution_count": 34,
   "metadata": {},
   "outputs": [
    {
     "name": "stdout",
     "output_type": "stream",
     "text": [
      "네이버와 카카오는 KBO 중계권을 놓치고 있지만, '오픈톡'과 '프로야구봇'을 통해 야구 팬들에게 서비스를 제공하고 있다. 네이버의 '오픈톡'은 100만 명 이상의 참여자가 있는 커뮤니티 서비스이며, 카카오의 '프로야구봇'은 약 35만 명의 이용자가 있다. 또한 다음스포츠에서는 '그래픽 중계'를 시작하여 영상 중계 없이도 현장감 있는 경기를 즐길 수 있도록 했다.\n"
     ]
    }
   ],
   "source": [
    "prompt = f\"\"\"You are a helpful Summarization Assistant. Below is give a news in Korean.\n",
    "Please summarize below news in three sentences. Your summary should not contain any information that is not present in the news.\n",
    "\n",
    "[Sample News Start]\n",
    "{sample_news}\n",
    "[Sample News End]\n",
    "\n",
    "[Sample Summary Start]\n",
    "{sample_summary}\n",
    "[Sample Summary End]\n",
    "\n",
    "News:\n",
    "{news}\n",
    "\n",
    "Summary:\"\"\"\n",
    "\n",
    "completion = client.chat.completions.create(\n",
    "    model=\"gpt-3.5-turbo-0125\",\n",
    "    messages=[{\"role\": \"user\", \"content\": prompt}],\n",
    "    temperature=0.0\n",
    ")\n",
    "\n",
    "summary_gpt3_v2 = completion.choices[0].message.content\n",
    "print(summary_gpt3_v2)"
   ]
  },
  {
   "cell_type": "code",
   "execution_count": 35,
   "metadata": {},
   "outputs": [
    {
     "name": "stdout",
     "output_type": "stream",
     "text": [
      "네이버와 카카오는 KBO 중계권을 놓치고 있지만, '오픈톡'과 '프로야구봇'을 통해 야구 팬들에게 서비스를 제공하고 있다\n",
      "네이버의 '오픈톡'은 100만 명 이상의 참여자가 있는 커뮤니티 서비스이며, 카카오의 '프로야구봇'은 약 35만 명의 이용자가 있다\n",
      "또한 다음스포츠에서는 '그래픽 중계'를 시작하여 영상 중계 없이도 현장감 있는 경기를 즐길 수 있도록 했다.\n"
     ]
    }
   ],
   "source": [
    "for line in summary_gpt3_v2.split('. '):\n",
    "  print(line)"
   ]
  },
  {
   "cell_type": "markdown",
   "metadata": {},
   "source": [
    "### Rouge 평가"
   ]
  },
  {
   "cell_type": "code",
   "execution_count": 36,
   "metadata": {},
   "outputs": [
    {
     "data": {
      "text/plain": [
       "[{'rouge-1': {'r': 0.25, 'p': 0.4418604651162791, 'f': 0.31932772647694374},\n",
       "  'rouge-2': {'r': 0.0875, 'p': 0.1590909090909091, 'f': 0.1129032212278878},\n",
       "  'rouge-l': {'r': 0.21052631578947367,\n",
       "   'p': 0.37209302325581395,\n",
       "   'f': 0.26890755840971686}}]"
      ]
     },
     "execution_count": 36,
     "metadata": {},
     "output_type": "execute_result"
    }
   ],
   "source": [
    "from rouge import Rouge\n",
    "\n",
    "rouge = Rouge()\n",
    "scores = rouge.get_scores(summary_gpt3_v2, summary_gpt4)\n",
    "scores"
   ]
  },
  {
   "cell_type": "markdown",
   "metadata": {},
   "source": [
    "* 코드 기반 평가방법으로는 많이 나아졌다."
   ]
  },
  {
   "cell_type": "markdown",
   "metadata": {},
   "source": [
    "### G-Eval"
   ]
  },
  {
   "cell_type": "code",
   "execution_count": 37,
   "metadata": {},
   "outputs": [
    {
     "name": "stdout",
     "output_type": "stream",
     "text": [
      "- Coherence: 4\n"
     ]
    }
   ],
   "source": [
    "eval_prompt = f\"\"\"You will be given one summary written for a news article.\n",
    "Your task is to rate the summary on one metric.\n",
    "Please make sure you read and understand these instructions carefully. Please keep this\n",
    "document open while reviewing, and refer to it as needed.\n",
    "Evaluation Criteria:\n",
    "Coherence (1-5) - the collective quality of all sentences. We align this dimension with\n",
    "the DUC quality question of structure and coherence whereby ”the summary should be\n",
    "well-structured and well-organized. The summary should not just be a heap of related information, but should build from sentence to sentence to a coherent body of information about a topic.”\n",
    "Evaluation Steps:\n",
    "1. Read the news article carefully and identify the main topic and key points.\n",
    "2. Read the summary and compare it to the news article. Check if the summary covers the main\n",
    "topic and key points of the news article, and if it presents them in a clear and logical order.\n",
    "3. Assign a score for coherence on a scale of 1 to 5, where 1 is the lowest and 5 is the highest\n",
    "based on the Evaluation Criteria.\n",
    "Example:\n",
    "Source Text:\n",
    "{news}\n",
    "Summary:\n",
    "{summary_gpt3_v2}\n",
    "Evaluation Form (scores ONLY):\n",
    "- Coherence:\"\"\"\n",
    "\n",
    "completion = client.chat.completions.create(\n",
    "    model=\"gpt-4-turbo-2024-04-09\",\n",
    "    messages=[{\"role\": \"user\", \"content\": eval_prompt}],\n",
    "    temperature=0.0\n",
    ")\n",
    "\n",
    "print(completion.choices[0].message.content)"
   ]
  },
  {
   "cell_type": "code",
   "execution_count": null,
   "metadata": {},
   "outputs": [],
   "source": []
  }
 ],
 "metadata": {
  "kernelspec": {
   "display_name": "base",
   "language": "python",
   "name": "python3"
  },
  "language_info": {
   "codemirror_mode": {
    "name": "ipython",
    "version": 3
   },
   "file_extension": ".py",
   "mimetype": "text/x-python",
   "name": "python",
   "nbconvert_exporter": "python",
   "pygments_lexer": "ipython3",
   "version": "3.11.7"
  }
 },
 "nbformat": 4,
 "nbformat_minor": 2
}
