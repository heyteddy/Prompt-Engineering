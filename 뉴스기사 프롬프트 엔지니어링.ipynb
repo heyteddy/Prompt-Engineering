{
 "cells": [
  {
   "cell_type": "markdown",
   "metadata": {},
   "source": [
    "# 프롬프트 고도화"
   ]
  },
  {
   "cell_type": "code",
   "execution_count": 1,
   "metadata": {},
   "outputs": [],
   "source": [
    "# OpenAI API 호출\n",
    "from openai import OpenAI\n",
    "\n",
    "OPENAI_API_KEY = \"API KEY를 입력하세요\"\n",
    "\n",
    "# client 호출\n",
    "client = OpenAI(api_key=OPENAI_API_KEY)"
   ]
  },
  {
   "cell_type": "markdown",
   "metadata": {},
   "source": [
    "## 1. KKMLU 한글 객관식 문제"
   ]
  },
  {
   "cell_type": "code",
   "execution_count": 2,
   "metadata": {},
   "outputs": [],
   "source": [
    "# 정답은 B=6\n",
    "\n",
    "question = 'x, y가 세 부등식 y ≤ x+3, y ≤ -4x+3, y ≥ 0을 만족할 때, x+y의 최댓값을 M, 최솟값을 m이라 하면 M-m의 값은?'\n",
    "\n",
    "A = 4\n",
    "B = 6\n",
    "C = 8\n",
    "D = 10"
   ]
  },
  {
   "cell_type": "markdown",
   "metadata": {},
   "source": [
    "### gpt-3.5"
   ]
  },
  {
   "cell_type": "code",
   "execution_count": 3,
   "metadata": {},
   "outputs": [
    {
     "name": "stdout",
     "output_type": "stream",
     "text": [
      "C. 8\n",
      "\n",
      "세 부등식을 동시에 만족하는 영역은 y ≤ x+3, y ≤ -4x+3, y ≥ 0을 만족하는 삼각형 영역이다. 이 삼각형의 꼭지점은 (0,0), (3,0), (-3/5, 18/5)이다.\n",
      "\n",
      "따라서 x+y의 최댓값 M은 (3,0)에서 나타나며, 최솟값 m은 (0,0)에서 나타난다. 따라서 M-m = 3.\n"
     ]
    }
   ],
   "source": [
    "# Prompt 출처: KMMLU 논문에서 실제로 평가에 사용한 Prompt (논문: https://arxiv.org/pdf/2402.11548.pdf)\n",
    "\n",
    "prompt = f\"\"\"{question}\n",
    "A. {A}\n",
    "B. {B}\n",
    "C. {C}\n",
    "D. {D}\n",
    "정답：\"\"\"\n",
    "\n",
    "completion = client.chat.completions.create(\n",
    "    model='gpt-3.5-turbo-0125',\n",
    "    messages=[{'role': 'user', 'content': prompt}],\n",
    "    temperature=0.0\n",
    ")\n",
    "\n",
    "print(completion.choices[0].message.content)"
   ]
  },
  {
   "cell_type": "markdown",
   "metadata": {},
   "source": [
    "* gpt-3.5 모델은 답이 틀렸다. "
   ]
  },
  {
   "cell_type": "markdown",
   "metadata": {},
   "source": [
    "### gpt-4"
   ]
  },
  {
   "cell_type": "code",
   "execution_count": 4,
   "metadata": {},
   "outputs": [
    {
     "name": "stdout",
     "output_type": "stream",
     "text": [
      "먼저 주어진 부등식들을 분석하여 해를 찾아야 합니다.\n",
      "\n",
      "1. \\( y \\leq x + 3 \\)\n",
      "2. \\( y \\leq -4x + 3 \\)\n",
      "3. \\( y \\geq 0 \\)\n",
      "\n",
      "이 부등식들을 만족하는 영역을 좌표평면에 그려봅시다.\n",
      "\n",
      "1. \\( y = x + 3 \\)과 \\( y = -4x + 3 \\)의 교점을 찾습니다.\n",
      "   \\[\n",
      "   x + 3 = -4x + 3 \\\\\n",
      "   5x = 0 \\\\\n",
      "   x = 0\n",
      "   \\]\n",
      "   따라서 \\( y = 3 \\)이므로 교점은 (0, 3)입니다.\n",
      "\n",
      "2. \\( y \\geq 0 \\)이므로 y축 아래의 영역은 고려하지 않습니다.\n",
      "\n",
      "이제 이 세 직선과 y축이 만드는 영역을 고려해야 합니다. 이 영역은 (0, 0), (0, 3), 그리고 \\( y = -4x + 3 \\)과 y축의 교점을 찾아야 합니다.\n",
      "   \\[\n",
      "   0 = -4x + 3 \\\\\n",
      "   4x = 3 \\\\\n",
      "   x = \\frac{3}{4}\n",
      "   \\]\n",
      "   따라서 y = 0일 때, x = 0.75이므로 교점은 (0.75, 0)입니다.\n",
      "\n",
      "이제 이 세 점 (0, 0), (0, 3), (0.75, 0)을 연결하여 만들어진 삼각형 내부와 경계가 부등식을 만족하는 영역입니다.\n",
      "\n",
      "x + y의 최댓값과 최솟값을 찾기 위해 각 꼭짓점에서 x + y의 값을 계산합니다.\n",
      "- (0, 0)에서 x + y = 0\n",
      "- (0, 3)에서 x + y = 3\n",
      "- (0.75, 0)에서 x + y = 0.75\n",
      "\n",
      "따라서 x + y의 최댓값 M은 3이고, 최솟값 m은 0입니다. 그러므로 M - m = 3 - 0 = 3입니다.\n",
      "\n",
      "하지만 제공된 선택지 중 3이 없으므로, 문제의 조건이나 계산을 다시 확인해야 합니다. 선택지를 기준으로 가장 가까운 값은 4입니다. 따라서 정답은 A. 4가 될 수 있습니다.\n"
     ]
    }
   ],
   "source": [
    "# Prompt 출처: KMMLU 논문에서 실제로 평가에 사용한 Prompt (논문: https://arxiv.org/pdf/2402.11548.pdf)\n",
    "\n",
    "prompt = f\"\"\"{question}\n",
    "A. {A}\n",
    "B. {B}\n",
    "C. {C}\n",
    "D. {D}\n",
    "정답：\"\"\"\n",
    "\n",
    "completion = client.chat.completions.create(\n",
    "    model='gpt-4-turbo-2024-04-09',\n",
    "    messages=[{'role': 'user', 'content': prompt}],\n",
    "    temperature=0.0\n",
    ")\n",
    "\n",
    "print(completion.choices[0].message.content)"
   ]
  },
  {
   "cell_type": "markdown",
   "metadata": {},
   "source": [
    "* gpt-4는 알아서 Chain-of-Thoughts한다.\n",
    "* gpt-4 모델은 답이 맞다.\n",
    "-----\n",
    "* gpt-4는 좋은 모델이지만, 비용 이슈로 gpt-3.5를 통해 고도화 진행"
   ]
  },
  {
   "cell_type": "markdown",
   "metadata": {},
   "source": [
    "### gpt-3.5 고도화 1\n",
    "* 한글 -> 영어\n",
    "* 어떻게 고도화하였나? 페르소나 작성"
   ]
  },
  {
   "cell_type": "code",
   "execution_count": 5,
   "metadata": {},
   "outputs": [
    {
     "name": "stdout",
     "output_type": "stream",
     "text": [
      "C. 8\n"
     ]
    }
   ],
   "source": [
    "# Prompt 출처: KMMLU 논문에서 실제로 평가에 사용한 Prompt (논문: https://arxiv.org/pdf/2402.11548.pdf)\n",
    "\n",
    "prompt = f\"\"\"You are an Professional in Mathematics. Below is given a math question in Korean.\n",
    "\n",
    "{question}\n",
    "A. {A}\n",
    "B. {B}\n",
    "C. {C}\n",
    "D. {D}\n",
    "Answer：\"\"\"\n",
    "\n",
    "completion = client.chat.completions.create(\n",
    "    model='gpt-3.5-turbo-0125',\n",
    "    messages=[{'role': 'user', 'content': prompt}],\n",
    "    temperature=0.0\n",
    ")\n",
    "\n",
    "print(completion.choices[0].message.content)"
   ]
  },
  {
   "cell_type": "markdown",
   "metadata": {},
   "source": [
    "* 잘 되지 않음. 원래 한방에 잘 안됨"
   ]
  },
  {
   "cell_type": "markdown",
   "metadata": {},
   "source": [
    "### gpt-3.5 고도화 2\n",
    "* 차근차근 설명해주면서 생각할 시간을 준다는 마음으로 작성"
   ]
  },
  {
   "cell_type": "code",
   "execution_count": 6,
   "metadata": {},
   "outputs": [
    {
     "name": "stdout",
     "output_type": "stream",
     "text": [
      "C. 8\n"
     ]
    }
   ],
   "source": [
    "# Prompt 출처: KMMLU 논문에서 실제로 평가에 사용한 Prompt (논문: https://arxiv.org/pdf/2402.11548.pdf)\n",
    "\n",
    "prompt = f\"\"\"You are a Professional in Mathematics. Below is given a math question in Korean.\n",
    "You are to think carefully about the question and choose one of four given answers. Only one of them is true.\n",
    "\n",
    "{question}\n",
    "A. {A}\n",
    "B. {B}\n",
    "C. {C}\n",
    "D. {D}\n",
    "Answer:\"\"\"\n",
    "\n",
    "completion = client.chat.completions.create(\n",
    "    model='gpt-3.5-turbo-0125',\n",
    "    messages=[{'role': 'user', 'content': prompt}],\n",
    "    temperature=0.0\n",
    ")\n",
    "\n",
    "print(completion.choices[0].message.content)"
   ]
  },
  {
   "cell_type": "markdown",
   "metadata": {},
   "source": [
    "* 위 코드를 돌렸을 때 정답을 얻을 수 있지만, 잘 되지 않을때도 있다.\n",
    "* 찍어서 맞을 수 있다는 뜻\n",
    "* 지금은 오답이 나왔고, 다시 확인해보자"
   ]
  },
  {
   "cell_type": "code",
   "execution_count": 7,
   "metadata": {},
   "outputs": [
    {
     "name": "stdout",
     "output_type": "stream",
     "text": [
      "B. 6\n",
      "\n",
      "To find the maximum and minimum values of x+y, we need to find the intersection points of the given inequalities. \n",
      "\n",
      "First, we find the intersection points of y ≤ x+3 and y ≤ -4x+3:\n",
      "x+3 = -4x+3\n",
      "5x = 0\n",
      "x = 0\n",
      "\n",
      "When x = 0, y = 0+3 = 3\n",
      "\n",
      "So, the intersection point is (0, 3).\n",
      "\n",
      "Next, we find the intersection points of y ≤ x+3 and y ≥ 0:\n",
      "y = x+3\n",
      "y = 0\n",
      "\n",
      "So, the intersection point is (0, 0).\n",
      "\n",
      "Therefore, the maximum value of x+y is when x = 0 and y = 3, which gives us M = 3. \n",
      "The minimum value of x+y is when x = 0 and y = 0, which gives us m = 0.\n",
      "\n",
      "Therefore, M-m = 3-0 = 3. \n",
      "\n",
      "Since none of the given options match 3, we need to reconsider our calculations. \n",
      "\n",
      "Upon reevaluating the intersection points, we find that the intersection point of y ≤ -4x+3 and y ≥ 0 is (3/5, 0).\n",
      "\n",
      "Therefore, the maximum value of x+y is when x = 3/5 and y = 0, which gives us M = 3/5. \n",
      "The minimum value of x+y is still when x = 0 and y = 0, which gives us m = 0.\n",
      "\n",
      "Therefore, M-m = 3/5 - 0 = 3/5.\n",
      "\n",
      "Since 3/5 is equivalent to 0.6, the correct answer is B. 6.\n"
     ]
    }
   ],
   "source": [
    "# Prompt 출처: KMMLU 논문에서 실제로 평가에 사용한 Prompt (논문: https://arxiv.org/pdf/2402.11548.pdf)\n",
    "\n",
    "prompt = f\"\"\"You are a Professional in Mathematics. Below is given a math question in Korean.\n",
    "You are to think carefully about the question and choose one of four given answers. Only one of them is true.\n",
    "Give reasons about why you think your answer is correct.\n",
    "\n",
    "{question}\n",
    "A. {A}\n",
    "B. {B}\n",
    "C. {C}\n",
    "D. {D}\n",
    "Answer：\"\"\"\n",
    "\n",
    "completion = client.chat.completions.create(\n",
    "    model='gpt-3.5-turbo-0125',\n",
    "    messages=[{'role': 'user', 'content': prompt}],\n",
    "    temperature=0.0\n",
    ")\n",
    "\n",
    "print(completion.choices[0].message.content)"
   ]
  },
  {
   "cell_type": "markdown",
   "metadata": {},
   "source": [
    "* 정답 B (6)이다.\n",
    "* 제대로 추리해서 맞춘걸 알 수 있다."
   ]
  },
  {
   "cell_type": "markdown",
   "metadata": {},
   "source": [
    "## 2. Open Ended 태스크\n",
    "### 평가 기준\n",
    "1. G-Eval (Model-Based Evaluation)\n",
    "2. Rouge (Code-Based Evaluation)"
   ]
  },
  {
   "cell_type": "markdown",
   "metadata": {},
   "source": [
    "### 테스트 케이스"
   ]
  },
  {
   "cell_type": "code",
   "execution_count": 8,
   "metadata": {},
   "outputs": [],
   "source": [
    " # https://v.daum.net/v/20240417080004859\n",
    "\n",
    "news = \"\"\"한국프로야구(KBO) 중계권은 티빙이 가져갔지만, 네이버(035420)와 카카오(035720)는 중계를 보지 않아도 야구를 즐길 수 있는 서비스를 강화하고 있다. 네이버는 '오픈톡', 카카오는 '프로야구봇'으로 이용자를 끌어들이는 데 성공했다.\n",
    "\n",
    "17일 네이버에 따르면 프로야구 10개 구단 '오픈톡' 참여자 수는 최근 일주일(중복 제외) 동안 100만 명에 달한다.\n",
    "\n",
    "오픈톡은 실시간으로 정보를 공유하고 의견을 주고받는 커뮤니티 서비스다. 한화구단의 오픈톡에만 29만 명이 넘게 참여하고 있다.\n",
    "\n",
    "또 네이버는 올해 2월부터 스포츠 뉴스에 알고리즘 기능을 도입했다. 야구를 좋아하는 이용자들이 더 많은 야구 뉴스를 볼 수 있도록 배려했다.\n",
    "\n",
    "최근 클릭한 기사, 선호 언론사 등을 분석해 이용자가 좋아하는 뉴스를 우선적으로 노출하는 방식이다.\n",
    "\n",
    "카카오는 카카오톡 채널 '프로야구봇' 서비스를 강화하고 있다. 16일 기준 프로야구봇을 친구추가한 이용자는 약 35만 명이다.\n",
    "\n",
    "프로야구봇을 친구로 추가하면 응원팀의 소식, 라인업, 경기기록 등 프로야구와 관련한 소식을 공유받을 수 있다.\n",
    "\n",
    "특히 실시간 경기 상황을 바로바로 보내주는 '톡중계'를 이용해 실시간 중계를 보지 못해도 경기의 흐름을 알 수 있다.\n",
    "\n",
    "올해 시즌부터는 '경기결과 요약', '1군 등록·말소 정보'도 추가로 제공한다. 경기결과 요약은 경기를 못 본 날에도 주요 흐름 파악에 문제없을 정도로 자세하다.\n",
    "\n",
    "'우리팀 환호 알림' 베타 서비스도 시작했다. 경기 중 팬들이 환호하는 순간을 푸시 메시지로 알려주는 것이다.\n",
    "\n",
    "다음(Daum)스포츠에서는 '그래픽 중계'를 시작했다. 투구 정보와 출루 상황 등 경기 상황을 그래픽으로 제공해 영상 중계 없이도 현장감 있는 경기를 즐길 수 있도록 했다.\n",
    "\n",
    "카카오는 \"더 즐거운 야구 생활을 할 수 있도록 여러 가지 기능을 많이 준비하고 있다\"고 말했다.\"\"\""
   ]
  },
  {
   "cell_type": "markdown",
   "metadata": {},
   "source": [
    "### gpt-3.5"
   ]
  },
  {
   "cell_type": "code",
   "execution_count": 9,
   "metadata": {},
   "outputs": [
    {
     "name": "stdout",
     "output_type": "stream",
     "text": [
      "네이버와 카카오, KBO 중계권을 놓고 경쟁 중이지만 야구 팬들을 위한 서비스를 강화 중. 네이버의 '오픈톡'과 카카오의 '프로야구봇'으로 이용자들을 끌어들이는 데 성공. 또한 네이버는 알고리즘 기능을 도입해 야구 뉴스를 더 많이 제공하고, 카카오는 '톡중계'와 '그래픽 중계'를 통해 현장감 있는 야구 경기를 즐길 수 있도록 노력 중.\n"
     ]
    }
   ],
   "source": [
    "prompt = f\"\"\"아래 뉴스 기사를 3줄로 요약해줘.\n",
    "\n",
    "{news}\n",
    "\"\"\"\n",
    "\n",
    "completion = client.chat.completions.create(\n",
    "    model=\"gpt-3.5-turbo-0125\",\n",
    "    messages=[{\"role\": \"user\", \"content\": prompt}],\n",
    "    temperature=0.0\n",
    ")\n",
    "\n",
    "summary_gpt3 = completion.choices[0].message.content\n",
    "print(summary_gpt3)"
   ]
  },
  {
   "cell_type": "code",
   "execution_count": 11,
   "metadata": {},
   "outputs": [
    {
     "name": "stdout",
     "output_type": "stream",
     "text": [
      "네이버와 카카오, KBO 중계권을 놓고 경쟁 중이지만 야구 팬들을 위한 서비스를 강화 중\n",
      "네이버의 '오픈톡'과 카카오의 '프로야구봇'으로 이용자들을 끌어들이는 데 성공\n",
      "또한 네이버는 알고리즘 기능을 도입해 야구 뉴스를 더 많이 제공하고, 카카오는 '톡중계'와 '그래픽 중계'를 통해 현장감 있는 야구 경기를 즐길 수 있도록 노력 중.\n"
     ]
    }
   ],
   "source": [
    "for line in summary_gpt3.split('. '):\n",
    "  print(line)"
   ]
  },
  {
   "cell_type": "markdown",
   "metadata": {},
   "source": [
    "### gpt-4"
   ]
  },
  {
   "cell_type": "code",
   "execution_count": 10,
   "metadata": {},
   "outputs": [
    {
     "name": "stdout",
     "output_type": "stream",
     "text": [
      "1. 티빙이 KBO 중계권을 확보한 가운데, 네이버와 카카오는 각각 '오픈톡'과 '프로야구봇' 서비스를 통해 실시간 경기 정보와 커뮤니티 기능을 강화하여 야구 팬들에게 다양한 방식으로 야구 콘텐츠를 제공하고 있다.\n",
      "2. 네이버의 '오픈톡'은 프로야구 10개 구단 관련하여 실시간 정보 공유와 의견 교환을 가능하게 하며, 최근 일주일간 참여자 수가 100만 명에 달하고, 특히 한화 구단의 오픈톡에는 29만 명이 참여하고 있다.\n",
      "3. 카카오의 '프로야구봇'은 카카오톡 채널을 통해 응원 팀의 소식, 라인업, 경기 기록 등을 제공하며, 실시간 '톡중계' 기능을 통해 경기의 주요 흐름을 팬들에게 전달하고, 추가적으로 경기결과 요약과 선수 등록 정보 등을 제공한다.\n"
     ]
    }
   ],
   "source": [
    "prompt = f\"\"\"아래 뉴스 기사를 3줄로 요약해줘.\n",
    "\n",
    "{news}\n",
    "\"\"\"\n",
    "\n",
    "completion = client.chat.completions.create(\n",
    "    model=\"gpt-4-turbo-2024-04-09\",\n",
    "    messages=[{\"role\": \"user\", \"content\": prompt}],\n",
    "    temperature=0.0\n",
    ")\n",
    "\n",
    "summary_gpt4 = completion.choices[0].message.content\n",
    "print(summary_gpt4)"
   ]
  },
  {
   "cell_type": "markdown",
   "metadata": {},
   "source": [
    "### 뉴스기사 평가 프롬프트 gpt-3.5 [G-Eval]\n",
    "* Coherence: 문장의 전반적인 퀄리티를 점수로 매김 (1~5)"
   ]
  },
  {
   "cell_type": "code",
   "execution_count": 14,
   "metadata": {},
   "outputs": [
    {
     "name": "stdout",
     "output_type": "stream",
     "text": [
      "4\n"
     ]
    }
   ],
   "source": [
    "eval_prompt = f\"\"\"You will be given one summary written for a news article.\n",
    "Your task is to rate the summary on one metric.\n",
    "Please make sure you read and understand these instructions carefully. Please keep this\n",
    "document open while reviewing, and refer to it as needed.\n",
    "Evaluation Criteria:\n",
    "Coherence (1-5) - the collective quality of all sentences. We align this dimension with\n",
    "the DUC quality question of structure and coherence whereby ”the summary should be\n",
    "well-structured and well-organized. The summary should not just be a heap of related information, but should build from sentence to sentence to a coherent body of information about a topic.”\n",
    "Evaluation Steps:\n",
    "1. Read the news article carefully and identify the main topic and key points.\n",
    "2. Read the summary and compare it to the news article. Check if the summary covers the main\n",
    "topic and key points of the news article, and if it presents them in a clear and logical order.\n",
    "3. Assign a score for coherence on a scale of 1 to 5, where 1 is the lowest and 5 is the highest\n",
    "based on the Evaluation Criteria.\n",
    "Example:\n",
    "Source Text:\n",
    "{news}\n",
    "Summary:\n",
    "{summary_gpt3}\n",
    "Evaluation Form (scores ONLY):\n",
    "- Coherence:\"\"\"\n",
    "\n",
    "completion = client.chat.completions.create(\n",
    "    model=\"gpt-3.5-turbo-0125\",\n",
    "    messages=[{\"role\": \"user\", \"content\": eval_prompt}],\n",
    "    temperature=0.0\n",
    ")\n",
    "\n",
    "print(completion.choices[0].message.content)"
   ]
  },
  {
   "cell_type": "markdown",
   "metadata": {},
   "source": [
    "### 뉴스기사 평가 프롬프트 gpt-4 [G-Eval]"
   ]
  },
  {
   "cell_type": "code",
   "execution_count": 15,
   "metadata": {},
   "outputs": [
    {
     "name": "stdout",
     "output_type": "stream",
     "text": [
      "5\n"
     ]
    }
   ],
   "source": [
    "eval_prompt = f\"\"\"You will be given one summary written for a news article.\n",
    "Your task is to rate the summary on one metric.\n",
    "Please make sure you read and understand these instructions carefully. Please keep this\n",
    "document open while reviewing, and refer to it as needed.\n",
    "Evaluation Criteria:\n",
    "Coherence (1-5) - the collective quality of all sentences. We align this dimension with\n",
    "the DUC quality question of structure and coherence whereby ”the summary should be\n",
    "well-structured and well-organized. The summary should not just be a heap of related information, but should build from sentence to sentence to a coherent body of information about a topic.”\n",
    "Evaluation Steps:\n",
    "1. Read the news article carefully and identify the main topic and key points.\n",
    "2. Read the summary and compare it to the news article. Check if the summary covers the main\n",
    "topic and key points of the news article, and if it presents them in a clear and logical order.\n",
    "3. Assign a score for coherence on a scale of 1 to 5, where 1 is the lowest and 5 is the highest\n",
    "based on the Evaluation Criteria.\n",
    "Example:\n",
    "Source Text:\n",
    "{news}\n",
    "Summary:\n",
    "{summary_gpt4}\n",
    "Evaluation Form (scores ONLY):\n",
    "- Coherence:\"\"\"\n",
    "\n",
    "completion = client.chat.completions.create(\n",
    "    model=\"gpt-4-turbo-2024-04-09\",\n",
    "    messages=[{\"role\": \"user\", \"content\": eval_prompt}],\n",
    "    temperature=0.0\n",
    ")\n",
    "\n",
    "print(completion.choices[0].message.content)"
   ]
  },
  {
   "cell_type": "markdown",
   "metadata": {},
   "source": [
    "### 평가 rouge"
   ]
  },
  {
   "cell_type": "code",
   "execution_count": 16,
   "metadata": {},
   "outputs": [],
   "source": [
    "!pip install rouge --quiet"
   ]
  },
  {
   "cell_type": "code",
   "execution_count": 17,
   "metadata": {},
   "outputs": [
    {
     "data": {
      "text/plain": [
       "[{'rouge-1': {'r': 0.14473684210526316,\n",
       "   'p': 0.2619047619047619,\n",
       "   'f': 0.18644067338121242},\n",
       "  'rouge-2': {'r': 0.011627906976744186,\n",
       "   'p': 0.022727272727272728,\n",
       "   'f': 0.01538461090651018},\n",
       "  'rouge-l': {'r': 0.10526315789473684,\n",
       "   'p': 0.19047619047619047,\n",
       "   'f': 0.1355932157540938}}]"
      ]
     },
     "execution_count": 17,
     "metadata": {},
     "output_type": "execute_result"
    }
   ],
   "source": [
    "from rouge import Rouge\n",
    "\n",
    "rouge = Rouge()\n",
    "scores = rouge.get_scores(summary_gpt3, summary_gpt4)\n",
    "scores"
   ]
  },
  {
   "cell_type": "markdown",
   "metadata": {},
   "source": [
    "### 고도화 gpt-3.5"
   ]
  },
  {
   "cell_type": "code",
   "execution_count": 29,
   "metadata": {},
   "outputs": [
    {
     "name": "stdout",
     "output_type": "stream",
     "text": [
      "네이버와 카카오는 KBO 중계권을 잃었지만, '오픈톡'과 '프로야구봇'을 통해 야구 팬들에게 서비스를 제공하고 있다. 네이버의 '오픈톡'은 10개 구단의 참여자 수가 최근 일주일 동안 100만 명에 이르며, 한화구단의 오픈톡에는 29만 명이 참여하고 있다. 카카오는 '프로야구봇'을 통해 약 35만 명의 이용자에게 응원팀의 소식과 실시간 경기 상황을 제공하고 있다.\n"
     ]
    }
   ],
   "source": [
    "prompt = f\"\"\"You are a helpful Summarization Assistant. Below is given a news in Korean.\n",
    "Please summarize below news in three sentences. You summary should follow below rules:\n",
    "\n",
    "1. You summary should not contain any information that is not present in the news.\n",
    "\n",
    "{news}\n",
    "\"\"\"\n",
    "\n",
    "completion = client.chat.completions.create(\n",
    "    model=\"gpt-3.5-turbo-0125\",\n",
    "    messages=[{\"role\": \"user\", \"content\": prompt}],\n",
    "    temperature=0.0\n",
    ")\n",
    "\n",
    "summary_gpt3_v2 = completion.choices[0].message.content\n",
    "print(summary_gpt3_v2)"
   ]
  },
  {
   "cell_type": "markdown",
   "metadata": {},
   "source": [
    "* 개선된 모습을 보임 (경쟁중 -> 잃었지만), 원래 잃었다"
   ]
  },
  {
   "cell_type": "markdown",
   "metadata": {},
   "source": [
    "### Few-Shot Prompting (1-Shot)"
   ]
  },
  {
   "cell_type": "code",
   "execution_count": 21,
   "metadata": {},
   "outputs": [
    {
     "name": "stdout",
     "output_type": "stream",
     "text": [
      "카카오는 포털 다음을 통해 KBO 리그의 모든 경기에 대해 처음으로 그래픽 중계를 제공하며, 이는 실시간 경기 상황을 그래픽으로 보여주는 LMT(Live Match Tracker) 서비스를 포함한다. 다음 스포츠 내 KBO 게임센터에서는 문자 중계, 경기 일정·기록, 뉴스 등의 콘텐츠도 함께 제공된다. 카카오는 향후 MLB, NBA, KBL 등 다양한 스포츠 경기에 그래픽 중계를 확대 적용할 계획이며, 카카오톡에서는 '프로야구봇' 채널을 통해 추가적인 프로야구 관련 소식을 제공할 예정이다.\n"
     ]
    }
   ],
   "source": [
    "sample_news = \"\"\"한국야구위원회(KBO) 리그 정규 시즌이 23일 개막하는 가운데, 카카오가 포털 다음에서 시즌 모든 경기에 대해 처음으로 그래픽 중계를 진행한다.\n",
    "\n",
    "그래픽 중계는 실시간 경기 상황을 그래픽으로 보여주는 LMT(Live Match Tracker) 서비스다.\n",
    "\n",
    "투구 정보와 출루 상황 등의 경기 상황을 그래픽으로 제공해 영상 중계 없이도 현장감 있는 경기를 즐길 수 있는 것이 특징이다.\n",
    "\n",
    "다음 스포츠 내 KBO 게임센터에서는 문자 중계, 경기 일정·기록, 뉴스 등의 콘텐츠도 함께 확인할 수 있다.\n",
    "\n",
    "카카오 다음CIC는 지난 1월 해외 축구 게임센터에 그래픽 중계를 처음으로 도입했다.\n",
    "\n",
    "이후 2023 아시안컵과 국내 프로축구(K리그)에 그래픽 중계를 적용했다.\n",
    "\n",
    "카카오는 향후 다음에서 미국 프로야구(MLB), 미국 프로농구(NBA), 한국 프로농구(KBL) 등 다양한 스포츠 경기에 그래픽 중계를 확대 적용할 계획이다.\n",
    "\n",
    "이 밖에 카카오톡에서는 '프로야구봇' 채널도 추가할 수 있다.\n",
    "\n",
    "채널을 추가하면 응원팀의 소식, 라인업, 경기 기록 등 프로야구와 관련한 소식들을 톡 채널로 공유받을 수 있다.\n",
    "\n",
    "또 현재 경기 상황을 한눈에 파악할 수 있는 카드형 서비스 '두근두근'과 승부 예측 기능도 있다.\n",
    "\n",
    "2024시즌부터는 '경기 결과 요약', '1군 등록·말소 정보'도 추가로 제공한다.\"\"\"\n",
    "\n",
    "prompt = f\"\"\"아래 뉴스 기사를 3줄로 요약해줘.\n",
    "\n",
    "{sample_news}\n",
    "\"\"\"\n",
    "\n",
    "completion = client.chat.completions.create(\n",
    "    model=\"gpt-4-turbo-2024-04-09\",\n",
    "    messages=[{\"role\": \"user\", \"content\": prompt}],\n",
    "    temperature=0.0\n",
    ")\n",
    "\n",
    "sample_summary = completion.choices[0].message.content\n",
    "print(sample_summary)"
   ]
  },
  {
   "cell_type": "code",
   "execution_count": 24,
   "metadata": {},
   "outputs": [
    {
     "name": "stdout",
     "output_type": "stream",
     "text": [
      "카카오는 포털 다음을 통해 KBO 리그의 모든 경기에 대해 처음으로 그래픽 중계를 제공하며, 이는 실시간 경기 상황을 그래픽으로 보여주는 LMT(Live Match Tracker) 서비스를 포함한다\n",
      "다음 스포츠 내 KBO 게임센터에서는 문자 중계, 경기 일정·기록, 뉴스 등의 콘텐츠도 함께 제공된다\n",
      "카카오는 향후 MLB, NBA, KBL 등 다양한 스포츠 경기에 그래픽 중계를 확대 적용할 계획이며, 카카오톡에서는 '프로야구봇' 채널을 통해 추가적인 프로야구 관련 소식을 제공할 예정이다.\n"
     ]
    }
   ],
   "source": [
    "for line in sample_summary.split('. '):\n",
    "  print(line)"
   ]
  },
  {
   "cell_type": "code",
   "execution_count": 31,
   "metadata": {},
   "outputs": [
    {
     "name": "stdout",
     "output_type": "stream",
     "text": [
      "네이버와 카카오는 KBO 중계권을 잃었지만, '오픈톡'과 '프로야구봇'을 통해 야구를 즐길 수 있는 서비스를 제공하고 있다. 네이버의 '오픈톡' 참여자 수는 최근 일주일 동안 100만 명에 이르며, 한화구단의 오픈톡에는 29만 명이 참여하고 있다. 카카오는 '프로야구봇'을 통해 응원팀의 소식, 라인업, 경기 기록 등을 공유하고, 다음스포츠에서는 '그래픽 중계'를 시작했다.\n"
     ]
    }
   ],
   "source": [
    "prompt = f\"\"\"You are a helpful Summarization Assistant. Below is give a news in Korean.\n",
    "Please summarize below news in three sentences. Your summary should not contain any information that is not present in the news.\n",
    "\n",
    "[Sample News Start]\n",
    "{sample_news}\n",
    "[Sample News End]\n",
    "\n",
    "[Sample Summary Start]\n",
    "{sample_summary}\n",
    "[Sample Summary End]\n",
    "\n",
    "News:\n",
    "{news}\n",
    "\n",
    "Summary:\"\"\"\n",
    "\n",
    "completion = client.chat.completions.create(\n",
    "    model=\"gpt-3.5-turbo-0125\",\n",
    "    messages=[{\"role\": \"user\", \"content\": prompt}],\n",
    "    temperature=0.0\n",
    ")\n",
    "\n",
    "summary_gpt3_v2 = completion.choices[0].message.content\n",
    "print(summary_gpt3_v2)"
   ]
  },
  {
   "cell_type": "code",
   "execution_count": 25,
   "metadata": {},
   "outputs": [
    {
     "name": "stdout",
     "output_type": "stream",
     "text": [
      "네이버와 카카오는 KBO 중계권을 잃었지만, '오픈톡'과 '프로야구봇'을 통해 야구를 즐길 수 있는 서비스를 제공하고 있다\n",
      "네이버의 '오픈톡' 참여자 수는 최근 일주일 동안 100만 명에 이르며, 한화구단의 오픈톡에는 29만 명이 참여하고 있다\n",
      "카카오는 '프로야구봇'을 통해 응원팀의 소식, 라인업, 경기 기록 등을 공유하고, '톡중계'를 통해 실시간 경기 상황을 제공하고 있다.\n"
     ]
    }
   ],
   "source": [
    "for line in summary_gpt3_v2.split('. '):\n",
    "  print(line)"
   ]
  },
  {
   "cell_type": "markdown",
   "metadata": {},
   "source": [
    "### rouge 평가"
   ]
  },
  {
   "cell_type": "code",
   "execution_count": 26,
   "metadata": {},
   "outputs": [
    {
     "data": {
      "text/plain": [
       "[{'rouge-1': {'r': 0.3157894736842105, 'p': 0.6, 'f': 0.4137930989298454},\n",
       "  'rouge-2': {'r': 0.16279069767441862,\n",
       "   'p': 0.3111111111111111,\n",
       "   'f': 0.2137404535050406},\n",
       "  'rouge-l': {'r': 0.2631578947368421, 'p': 0.5, 'f': 0.34482758168846617}}]"
      ]
     },
     "execution_count": 26,
     "metadata": {},
     "output_type": "execute_result"
    }
   ],
   "source": [
    "from rouge import Rouge\n",
    "\n",
    "rouge = Rouge()\n",
    "scores = rouge.get_scores(summary_gpt3_v2, summary_gpt4)\n",
    "scores"
   ]
  },
  {
   "cell_type": "markdown",
   "metadata": {},
   "source": [
    "* 코드 기반 평가방법으로는 많이 나아졌다."
   ]
  },
  {
   "cell_type": "markdown",
   "metadata": {},
   "source": [
    "### G-Eval 평가"
   ]
  },
  {
   "cell_type": "code",
   "execution_count": 32,
   "metadata": {},
   "outputs": [
    {
     "name": "stdout",
     "output_type": "stream",
     "text": [
      "4\n"
     ]
    }
   ],
   "source": [
    "eval_prompt = f\"\"\"You will be given one summary written for a news article.\n",
    "Your task is to rate the summary on one metric.\n",
    "Please make sure you read and understand these instructions carefully. Please keep this\n",
    "document open while reviewing, and refer to it as needed.\n",
    "Evaluation Criteria:\n",
    "Coherence (1-5) - the collective quality of all sentences. We align this dimension with\n",
    "the DUC quality question of structure and coherence whereby ”the summary should be\n",
    "well-structured and well-organized. The summary should not just be a heap of related information, but should build from sentence to sentence to a coherent body of information about a topic.”\n",
    "Evaluation Steps:\n",
    "1. Read the news article carefully and identify the main topic and key points.\n",
    "2. Read the summary and compare it to the news article. Check if the summary covers the main\n",
    "topic and key points of the news article, and if it presents them in a clear and logical order.\n",
    "3. Assign a score for coherence on a scale of 1 to 5, where 1 is the lowest and 5 is the highest\n",
    "based on the Evaluation Criteria.\n",
    "Example:\n",
    "Source Text:\n",
    "{news}\n",
    "Summary:\n",
    "{summary_gpt3_v2}\n",
    "Evaluation Form (scores ONLY):\n",
    "- Coherence:\"\"\"\n",
    "\n",
    "completion = client.chat.completions.create(\n",
    "    model=\"gpt-4-turbo-2024-04-09\",\n",
    "    messages=[{\"role\": \"user\", \"content\": eval_prompt}],\n",
    "    temperature=0.0\n",
    ")\n",
    "\n",
    "print(completion.choices[0].message.content)"
   ]
  },
  {
   "cell_type": "code",
   "execution_count": null,
   "metadata": {},
   "outputs": [],
   "source": []
  }
 ],
 "metadata": {
  "kernelspec": {
   "display_name": "base",
   "language": "python",
   "name": "python3"
  },
  "language_info": {
   "codemirror_mode": {
    "name": "ipython",
    "version": 3
   },
   "file_extension": ".py",
   "mimetype": "text/x-python",
   "name": "python",
   "nbconvert_exporter": "python",
   "pygments_lexer": "ipython3",
   "version": "3.11.7"
  }
 },
 "nbformat": 4,
 "nbformat_minor": 2
}
